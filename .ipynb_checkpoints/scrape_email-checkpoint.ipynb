{
 "cells": [
  {
   "cell_type": "markdown",
   "metadata": {},
   "source": [
    "# Extract with BeautifulSoup"
   ]
  },
  {
   "cell_type": "code",
   "execution_count": 42,
   "metadata": {},
   "outputs": [
    {
     "name": "stdout",
     "output_type": "stream",
     "text": [
      "https://github.com/khuyentran1401/EPS-Y/commits/master\n"
     ]
    }
   ],
   "source": [
    "# Getting Started\n",
    "\n",
    "import requests\n",
    "import urllib.request\n",
    "import time\n",
    "from bs4 import BeautifulSoup\n",
    "import numpy as np\n",
    "import pandas as pd\n",
    "from urllib.request import urlopen\n",
    "import re\n",
    "\n",
    "url = 'https://github.com/<span class=\"commit-author user-mention\">zhangshengshan</span>/'\n",
    "\n",
    "html = urlopen(url)\n",
    "\n",
    "soup = BeautifulSoup(html, 'html.parser')\n",
    "\n",
    "soup.prettify()\n",
    "\n",
    "\n",
    "# Go to the repo\n",
    "\n",
    "source_repo = soup.find('a', class_=\"UnderlineNav-item mr-0 mr-md-1 mr-lg-3\")\n",
    "\n",
    "source_repo\n",
    "\n",
    "name = source_repo['href']\n",
    "\n",
    "name\n",
    "\n",
    "# Go to the repo tab\n",
    "repo_link = 'https://github.com' + name\n",
    "\n",
    "repo_link\n",
    "\n",
    "# Go to type tab\n",
    "\n",
    "html = urlopen(repo_link + '&q=&type=source&language=')\n",
    "\n",
    "soup = BeautifulSoup(html, 'html.parser')\n",
    "\n",
    "first_repo = soup.find_all('h3')[3]\n",
    "first_repo.a['href']\n",
    "\n",
    "repo_link1 = 'https://github.com' + first_repo.a['href']\n",
    "repo_link1\n",
    "\n",
    "commit_link = repo_link1 + '/commits/master'\n",
    "print(commit_link)\n",
    "\n"
   ]
  },
  {
   "cell_type": "code",
   "execution_count": 43,
   "metadata": {},
   "outputs": [],
   "source": [
    "html = urlopen(commit_link)\n",
    "soup = BeautifulSoup(html, 'html.parser')"
   ]
  },
  {
   "cell_type": "code",
   "execution_count": 60,
   "metadata": {},
   "outputs": [
    {
     "data": {
      "text/plain": [
       "'khuyentran1401'"
      ]
     },
     "execution_count": 60,
     "metadata": {},
     "output_type": "execute_result"
    }
   ],
   "source": [
    "commits = soup.find_all('div', class_=\"flex-auto min-width-0\")[0].div\n",
    "commits.find_all('div')[-1].text.split('\\n')[1]"
   ]
  },
  {
   "cell_type": "code",
   "execution_count": 46,
   "metadata": {},
   "outputs": [
    {
     "data": {
      "text/plain": [
       "'\\n…\\n'"
      ]
     },
     "execution_count": 46,
     "metadata": {},
     "output_type": "execute_result"
    }
   ],
   "source": [
    "#Extract all commits\n",
    "try:\n",
    "    commits = soup.find_all('div', class_=\"flex-auto min-width-0\")[0].div.div\n",
    "    commits.find_all('a')[1].text\n",
    "    print('try')\n",
    "except:\n",
    "    commits = soup.find_all('div', class_=\"flex-auto min-width-0\")[0].span.text\n",
    "commits"
   ]
  },
  {
   "cell_type": "code",
   "execution_count": null,
   "metadata": {},
   "outputs": [],
   "source": [
    "commits = soup.find_all('a', class_='commit-author tooltipped tooltipped-s user-mention')\n",
    "commits"
   ]
  },
  {
   "cell_type": "code",
   "execution_count": 14,
   "metadata": {},
   "outputs": [
    {
     "ename": "NameError",
     "evalue": "name 'author_commit' is not defined",
     "output_type": "error",
     "traceback": [
      "\u001b[0;31m---------------------------------------------------------------------------\u001b[0m",
      "\u001b[0;31mNameError\u001b[0m                                 Traceback (most recent call last)",
      "\u001b[0;32m<ipython-input-14-cf2f2f879cd0>\u001b[0m in \u001b[0;36m<module>\u001b[0;34m\u001b[0m\n\u001b[1;32m      4\u001b[0m         \u001b[0;32mbreak\u001b[0m\u001b[0;34m\u001b[0m\u001b[0;34m\u001b[0m\u001b[0m\n\u001b[1;32m      5\u001b[0m \u001b[0;34m\u001b[0m\u001b[0m\n\u001b[0;32m----> 6\u001b[0;31m \u001b[0mauthor_commit\u001b[0m \u001b[0;34m=\u001b[0m \u001b[0;34m'https://github.com'\u001b[0m  \u001b[0;34m+\u001b[0m \u001b[0mauthor_commit\u001b[0m\u001b[0;34m\u001b[0m\u001b[0;34m\u001b[0m\u001b[0m\n\u001b[0m\u001b[1;32m      7\u001b[0m \u001b[0mauthor_commit\u001b[0m\u001b[0;34m\u001b[0m\u001b[0;34m\u001b[0m\u001b[0m\n",
      "\u001b[0;31mNameError\u001b[0m: name 'author_commit' is not defined"
     ]
    }
   ],
   "source": [
    "for commit in commits:\n",
    "    if commit.text == 'zhangshengshan':\n",
    "        author_commit = commit['href']\n",
    "        break\n",
    "        \n",
    "author_commit = 'https://github.com'  + author_commit\n",
    "author_commit"
   ]
  },
  {
   "cell_type": "code",
   "execution_count": 69,
   "metadata": {},
   "outputs": [],
   "source": [
    "html = urlopen(author_commit)\n",
    "soup = BeautifulSoup(html, 'html.parser')\n",
    "author_commit_link = soup.find('a', class_=\"message js-navigation-open\")['href']\n",
    "author_commit_link = 'https://github.com' + author_commit_link +'.patch'"
   ]
  },
  {
   "cell_type": "code",
   "execution_count": 71,
   "metadata": {},
   "outputs": [
    {
     "data": {
      "text/plain": [
       "'https://github.com/wepe/MachineLearning/commit/ca0222acdf7c652cc49331254533e01bf35e887e.patch'"
      ]
     },
     "execution_count": 71,
     "metadata": {},
     "output_type": "execute_result"
    }
   ],
   "source": [
    "author_commit_link"
   ]
  },
  {
   "cell_type": "code",
   "execution_count": 72,
   "metadata": {},
   "outputs": [
    {
     "data": {
      "text/plain": [
       "'masterwepon@163.com'"
      ]
     },
     "execution_count": 72,
     "metadata": {},
     "output_type": "execute_result"
    }
   ],
   "source": [
    "\n",
    "html = urlopen(author_commit_link)\n",
    "soup = BeautifulSoup(html, 'html.parser')\n",
    "\n",
    "email = soup.prettify().split()[-1]\n",
    "\n",
    "# Clean email address\n",
    "email = re.sub('[</>]','', email )\n",
    "email\n"
   ]
  }
 ],
 "metadata": {
  "kernelspec": {
   "display_name": "Python 3",
   "language": "python",
   "name": "python3"
  },
  "language_info": {
   "codemirror_mode": {
    "name": "ipython",
    "version": 3
   },
   "file_extension": ".py",
   "mimetype": "text/x-python",
   "name": "python",
   "nbconvert_exporter": "python",
   "pygments_lexer": "ipython3",
   "version": "3.8.3"
  }
 },
 "nbformat": 4,
 "nbformat_minor": 4
}
