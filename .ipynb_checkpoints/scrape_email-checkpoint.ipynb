{
 "cells": [
  {
   "cell_type": "code",
   "execution_count": 12,
   "metadata": {},
   "outputs": [
    {
     "name": "stdout",
     "output_type": "stream",
     "text": [
      "https://github.com/wepe/MachineLearning/commits/master\n"
     ]
    }
   ],
   "source": [
    "# Getting Started\n",
    "\n",
    "import requests\n",
    "import urllib.request\n",
    "import time\n",
    "from bs4 import BeautifulSoup\n",
    "import numpy as np\n",
    "import pandas as pd\n",
    "from urllib.request import urlopen\n",
    "import re\n",
    "\n",
    "url = 'https://github.com/wepe/'\n",
    "\n",
    "html = urlopen(url)\n",
    "\n",
    "soup = BeautifulSoup(html, 'html.parser')\n",
    "\n",
    "soup.prettify()\n",
    "\n",
    "\n",
    "# Go to the repo\n",
    "\n",
    "source_repo = soup.find('a', class_=\"UnderlineNav-item mr-0 mr-md-1 mr-lg-3\")\n",
    "\n",
    "source_repo\n",
    "\n",
    "name = source_repo['href']\n",
    "\n",
    "name\n",
    "\n",
    "# Go to the repo tab\n",
    "repo_link = 'https://github.com' + name\n",
    "\n",
    "repo_link\n",
    "\n",
    "# Go to type tab\n",
    "\n",
    "html = urlopen(repo_link + '&q=&type=source&language=')\n",
    "\n",
    "soup = BeautifulSoup(html, 'html.parser')\n",
    "\n",
    "first_repo = soup.find_all('h3')[3]\n",
    "first_repo.a['href']\n",
    "\n",
    "repo_link1 = 'https://github.com' + first_repo.a['href']\n",
    "repo_link1\n",
    "\n",
    "commit_link = repo_link1 + '/commits/master'\n",
    "print(commit_link)\n",
    "\n"
   ]
  },
  {
   "cell_type": "code",
   "execution_count": 13,
   "metadata": {},
   "outputs": [
    {
     "data": {
      "text/plain": [
       "'https://github.com/wepe/MachineLearning/commit/e426ffdd126829a2b8c71f368fd33170f342f538.patch'"
      ]
     },
     "execution_count": 13,
     "metadata": {},
     "output_type": "execute_result"
    }
   ],
   "source": [
    "html = urlopen(commit_link)\n",
    "soup = BeautifulSoup(html, 'html.parser')\n",
    "\n",
    "pull_request_link = 'https://github.com' + soup.find('ol').li.a['href'] + '.patch'\n",
    "\n",
    "pull_request_link"
   ]
  },
  {
   "cell_type": "code",
   "execution_count": 14,
   "metadata": {},
   "outputs": [],
   "source": [
    "pull_request_link = 'https://github.com/wepe/MachineLearning/commit/ca0222acdf7c652cc49331254533e01bf35e887e.patch'"
   ]
  },
  {
   "cell_type": "code",
   "execution_count": 15,
   "metadata": {},
   "outputs": [
    {
     "data": {
      "text/plain": [
       "'</masterwepon@163.com>'"
      ]
     },
     "execution_count": 15,
     "metadata": {},
     "output_type": "execute_result"
    }
   ],
   "source": [
    "\n",
    "html = urlopen(pull_request_link)\n",
    "soup = BeautifulSoup(html, 'html.parser')\n",
    "\n",
    "soup.prettify().split()[-1]\n",
    "\n"
   ]
  },
  {
   "cell_type": "code",
   "execution_count": null,
   "metadata": {},
   "outputs": [],
   "source": [
    "p = re.compile('[^<]')"
   ]
  }
 ],
 "metadata": {
  "kernelspec": {
   "display_name": "Python 3",
   "language": "python",
   "name": "python3"
  },
  "language_info": {
   "codemirror_mode": {
    "name": "ipython",
    "version": 3
   },
   "file_extension": ".py",
   "mimetype": "text/x-python",
   "name": "python",
   "nbconvert_exporter": "python",
   "pygments_lexer": "ipython3",
   "version": "3.8.3"
  }
 },
 "nbformat": 4,
 "nbformat_minor": 4
}
