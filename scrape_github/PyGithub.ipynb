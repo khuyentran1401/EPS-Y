{
 "cells": [
  {
   "cell_type": "code",
   "execution_count": 26,
   "metadata": {},
   "outputs": [],
   "source": [
    "import requests\n",
    "from pprint import pprint"
   ]
  },
  {
   "cell_type": "code",
   "execution_count": 27,
   "metadata": {},
   "outputs": [
    {
     "name": "stdout",
     "output_type": "stream",
     "text": [
      "{'documentation_url': 'https://developer.github.com/v3/#rate-limiting',\n",
      " 'message': \"API rate limit exceeded for 69.49.79.99. (But here's the good \"\n",
      "            'news: Authenticated requests get a higher rate limit. Check out '\n",
      "            'the documentation for more details.)'}\n"
     ]
    }
   ],
   "source": [
    "# github username\n",
    "username = \"khuyentran1401\"\n",
    "# url to request\n",
    "url = f\"https://api.github.com/users/{username}\"\n",
    "# make the request and return the json\n",
    "user_data = requests.get(url).json()\n",
    "# pretty print JSON data\n",
    "pprint(user_data)\n"
   ]
  },
  {
   "cell_type": "code",
   "execution_count": 21,
   "metadata": {},
   "outputs": [],
   "source": [
    "import base64\n",
    "from github import Github\n",
    "from pprint import pprint"
   ]
  },
  {
   "cell_type": "code",
   "execution_count": 22,
   "metadata": {},
   "outputs": [],
   "source": [
    "username = 'khuyentran1401'"
   ]
  },
  {
   "cell_type": "code",
   "execution_count": 23,
   "metadata": {},
   "outputs": [],
   "source": [
    "g = Github()"
   ]
  },
  {
   "cell_type": "code",
   "execution_count": 24,
   "metadata": {},
   "outputs": [
    {
     "ename": "RateLimitExceededException",
     "evalue": "403 {\"message\": \"API rate limit exceeded for 69.49.79.99. (But here's the good news: Authenticated requests get a higher rate limit. Check out the documentation for more details.)\", \"documentation_url\": \"https://developer.github.com/v3/#rate-limiting\"}",
     "output_type": "error",
     "traceback": [
      "\u001b[0;31m---------------------------------------------------------------------------\u001b[0m",
      "\u001b[0;31mRateLimitExceededException\u001b[0m                Traceback (most recent call last)",
      "\u001b[0;32m<ipython-input-24-6b7371d50ca0>\u001b[0m in \u001b[0;36m<module>\u001b[0;34m\u001b[0m\n\u001b[0;32m----> 1\u001b[0;31m \u001b[0muser\u001b[0m \u001b[0;34m=\u001b[0m \u001b[0mg\u001b[0m\u001b[0;34m.\u001b[0m\u001b[0mget_user\u001b[0m\u001b[0;34m(\u001b[0m\u001b[0musername\u001b[0m\u001b[0;34m)\u001b[0m\u001b[0;34m\u001b[0m\u001b[0;34m\u001b[0m\u001b[0m\n\u001b[0m",
      "\u001b[0;32m~/anaconda3/envs/scraping/lib/python3.8/site-packages/github/MainClass.py\u001b[0m in \u001b[0;36mget_user\u001b[0;34m(self, login)\u001b[0m\n\u001b[1;32m    260\u001b[0m             )\n\u001b[1;32m    261\u001b[0m         \u001b[0;32melse\u001b[0m\u001b[0;34m:\u001b[0m\u001b[0;34m\u001b[0m\u001b[0;34m\u001b[0m\u001b[0m\n\u001b[0;32m--> 262\u001b[0;31m             headers, data = self.__requester.requestJsonAndCheck(\n\u001b[0m\u001b[1;32m    263\u001b[0m                 \u001b[0;34m\"GET\"\u001b[0m\u001b[0;34m,\u001b[0m \u001b[0;34m\"/users/\"\u001b[0m \u001b[0;34m+\u001b[0m \u001b[0mlogin\u001b[0m\u001b[0;34m\u001b[0m\u001b[0;34m\u001b[0m\u001b[0m\n\u001b[1;32m    264\u001b[0m             )\n",
      "\u001b[0;32m~/anaconda3/envs/scraping/lib/python3.8/site-packages/github/Requester.py\u001b[0m in \u001b[0;36mrequestJsonAndCheck\u001b[0;34m(self, verb, url, parameters, headers, input)\u001b[0m\n\u001b[1;32m    315\u001b[0m \u001b[0;34m\u001b[0m\u001b[0m\n\u001b[1;32m    316\u001b[0m     \u001b[0;32mdef\u001b[0m \u001b[0mrequestJsonAndCheck\u001b[0m\u001b[0;34m(\u001b[0m\u001b[0mself\u001b[0m\u001b[0;34m,\u001b[0m \u001b[0mverb\u001b[0m\u001b[0;34m,\u001b[0m \u001b[0murl\u001b[0m\u001b[0;34m,\u001b[0m \u001b[0mparameters\u001b[0m\u001b[0;34m=\u001b[0m\u001b[0;32mNone\u001b[0m\u001b[0;34m,\u001b[0m \u001b[0mheaders\u001b[0m\u001b[0;34m=\u001b[0m\u001b[0;32mNone\u001b[0m\u001b[0;34m,\u001b[0m \u001b[0minput\u001b[0m\u001b[0;34m=\u001b[0m\u001b[0;32mNone\u001b[0m\u001b[0;34m)\u001b[0m\u001b[0;34m:\u001b[0m\u001b[0;34m\u001b[0m\u001b[0;34m\u001b[0m\u001b[0m\n\u001b[0;32m--> 317\u001b[0;31m         return self.__check(\n\u001b[0m\u001b[1;32m    318\u001b[0m             *self.requestJson(\n\u001b[1;32m    319\u001b[0m                 \u001b[0mverb\u001b[0m\u001b[0;34m,\u001b[0m \u001b[0murl\u001b[0m\u001b[0;34m,\u001b[0m \u001b[0mparameters\u001b[0m\u001b[0;34m,\u001b[0m \u001b[0mheaders\u001b[0m\u001b[0;34m,\u001b[0m \u001b[0minput\u001b[0m\u001b[0;34m,\u001b[0m \u001b[0mself\u001b[0m\u001b[0;34m.\u001b[0m\u001b[0m__customConnection\u001b[0m\u001b[0;34m(\u001b[0m\u001b[0murl\u001b[0m\u001b[0;34m)\u001b[0m\u001b[0;34m\u001b[0m\u001b[0;34m\u001b[0m\u001b[0m\n",
      "\u001b[0;32m~/anaconda3/envs/scraping/lib/python3.8/site-packages/github/Requester.py\u001b[0m in \u001b[0;36m__check\u001b[0;34m(self, status, responseHeaders, output)\u001b[0m\n\u001b[1;32m    340\u001b[0m         \u001b[0moutput\u001b[0m \u001b[0;34m=\u001b[0m \u001b[0mself\u001b[0m\u001b[0;34m.\u001b[0m\u001b[0m__structuredFromJson\u001b[0m\u001b[0;34m(\u001b[0m\u001b[0moutput\u001b[0m\u001b[0;34m)\u001b[0m\u001b[0;34m\u001b[0m\u001b[0;34m\u001b[0m\u001b[0m\n\u001b[1;32m    341\u001b[0m         \u001b[0;32mif\u001b[0m \u001b[0mstatus\u001b[0m \u001b[0;34m>=\u001b[0m \u001b[0;36m400\u001b[0m\u001b[0;34m:\u001b[0m\u001b[0;34m\u001b[0m\u001b[0;34m\u001b[0m\u001b[0m\n\u001b[0;32m--> 342\u001b[0;31m             \u001b[0;32mraise\u001b[0m \u001b[0mself\u001b[0m\u001b[0;34m.\u001b[0m\u001b[0m__createException\u001b[0m\u001b[0;34m(\u001b[0m\u001b[0mstatus\u001b[0m\u001b[0;34m,\u001b[0m \u001b[0mresponseHeaders\u001b[0m\u001b[0;34m,\u001b[0m \u001b[0moutput\u001b[0m\u001b[0;34m)\u001b[0m\u001b[0;34m\u001b[0m\u001b[0;34m\u001b[0m\u001b[0m\n\u001b[0m\u001b[1;32m    343\u001b[0m         \u001b[0;32mreturn\u001b[0m \u001b[0mresponseHeaders\u001b[0m\u001b[0;34m,\u001b[0m \u001b[0moutput\u001b[0m\u001b[0;34m\u001b[0m\u001b[0;34m\u001b[0m\u001b[0m\n\u001b[1;32m    344\u001b[0m \u001b[0;34m\u001b[0m\u001b[0m\n",
      "\u001b[0;31mRateLimitExceededException\u001b[0m: 403 {\"message\": \"API rate limit exceeded for 69.49.79.99. (But here's the good news: Authenticated requests get a higher rate limit. Check out the documentation for more details.)\", \"documentation_url\": \"https://developer.github.com/v3/#rate-limiting\"}"
     ]
    }
   ],
   "source": [
    "user = g.get_user(username)"
   ]
  },
  {
   "cell_type": "code",
   "execution_count": 25,
   "metadata": {},
   "outputs": [
    {
     "data": {
      "text/plain": [
       "NamedUser(login=\"khuyentran1401\")"
      ]
     },
     "execution_count": 25,
     "metadata": {},
     "output_type": "execute_result"
    }
   ],
   "source": [
    "user"
   ]
  },
  {
   "cell_type": "code",
   "execution_count": 9,
   "metadata": {},
   "outputs": [
    {
     "name": "stdout",
     "output_type": "stream",
     "text": [
      "Repository(full_name=\"khuyentran1401/analyze-happiness-report\")\n",
      "Repository(full_name=\"khuyentran1401/Applied-Integer-Programming-with-Python\")\n",
      "Repository(full_name=\"khuyentran1401/article-analysis\")\n",
      "Repository(full_name=\"khuyentran1401/arXivTimes\")\n",
      "Repository(full_name=\"khuyentran1401/Author-Profiling\")\n",
      "Repository(full_name=\"khuyentran1401/awesome-machine-learning\")\n",
      "Repository(full_name=\"khuyentran1401/awesome-tensorflow\")\n",
      "Repository(full_name=\"khuyentran1401/Computational-Geometry\")\n",
      "Repository(full_name=\"khuyentran1401/cufflinks\")\n",
      "Repository(full_name=\"khuyentran1401/Cython\")\n",
      "Repository(full_name=\"khuyentran1401/Data-science-best-resources\")\n",
      "Repository(full_name=\"khuyentran1401/data-science-books\")\n",
      "Repository(full_name=\"khuyentran1401/data-science-career\")\n",
      "Repository(full_name=\"khuyentran1401/data-science-wg\")\n",
      "Repository(full_name=\"khuyentran1401/deploying-machine-learning-models\")\n",
      "Repository(full_name=\"khuyentran1401/extract-emails\")\n",
      "Repository(full_name=\"khuyentran1401/Extract-text-from-article\")\n",
      "Repository(full_name=\"khuyentran1401/faker\")\n",
      "Repository(full_name=\"khuyentran1401/Flask\")\n",
      "Repository(full_name=\"khuyentran1401/focus-tips\")\n",
      "Repository(full_name=\"khuyentran1401/Game-of-Thrones-And-Graph\")\n",
      "Repository(full_name=\"khuyentran1401/Ghibli-scrape-analysis\")\n",
      "Repository(full_name=\"khuyentran1401/github-email\")\n",
      "Repository(full_name=\"khuyentran1401/GraphEmbedding\")\n",
      "Repository(full_name=\"khuyentran1401/heroku-app\")\n",
      "Repository(full_name=\"khuyentran1401/Hyperdash-exp\")\n",
      "Repository(full_name=\"khuyentran1401/industry-machine-learning\")\n",
      "Repository(full_name=\"khuyentran1401/kdtree-implementation\")\n",
      "Repository(full_name=\"khuyentran1401/khuyentran1401.github.io\")\n",
      "Repository(full_name=\"khuyentran1401/KNN-and-Bayes-Classifier\")\n",
      "Repository(full_name=\"khuyentran1401/linear-programming-with-PuLP\")\n",
      "Repository(full_name=\"khuyentran1401/machine-learning-articles\")\n",
      "Repository(full_name=\"khuyentran1401/Machine-learning-pipeline\")\n",
      "Repository(full_name=\"khuyentran1401/main\")\n",
      "Repository(full_name=\"khuyentran1401/markdown_readme\")\n",
      "Repository(full_name=\"khuyentran1401/minimal-portfolio\")\n",
      "Repository(full_name=\"khuyentran1401/MNIST-gradient-descent\")\n",
      "Repository(full_name=\"khuyentran1401/nlp\")\n",
      "Repository(full_name=\"khuyentran1401/nlp-recipes\")\n",
      "Repository(full_name=\"khuyentran1401/Non-negative-least-squares\")\n",
      "Repository(full_name=\"khuyentran1401/Numerical-Optimization-Machine-learning\")\n",
      "Repository(full_name=\"khuyentran1401/or-tools\")\n",
      "Repository(full_name=\"khuyentran1401/pandas-vault\")\n",
      "Repository(full_name=\"khuyentran1401/pandas_twitter\")\n",
      "Repository(full_name=\"khuyentran1401/Papers-Literature-ML-DL-RL-AI\")\n",
      "Repository(full_name=\"khuyentran1401/portfolio-tutorial\")\n",
      "Repository(full_name=\"khuyentran1401/predict-heart-disease\")\n",
      "Repository(full_name=\"khuyentran1401/pyautogui\")\n",
      "Repository(full_name=\"khuyentran1401/Python-High-Performance-Second-Edition\")\n",
      "Repository(full_name=\"khuyentran1401/pytorch-tutorial\")\n",
      "Repository(full_name=\"khuyentran1401/Real-or-Not\")\n",
      "Repository(full_name=\"khuyentran1401/Recursion-examples\")\n",
      "Repository(full_name=\"khuyentran1401/same-stats-different-graphs\")\n",
      "Repository(full_name=\"khuyentran1401/site\")\n",
      "Repository(full_name=\"khuyentran1401/Speed-Dating\")\n",
      "Repository(full_name=\"khuyentran1401/Stats-Maths-with-Python\")\n",
      "Repository(full_name=\"khuyentran1401/Suicide-rates\")\n",
      "Repository(full_name=\"khuyentran1401/Task-scheduler-problem\")\n",
      "Repository(full_name=\"khuyentran1401/Time-Python-Objects\")\n",
      "Repository(full_name=\"khuyentran1401/Union-algorithms\")\n",
      "Repository(full_name=\"khuyentran1401/visualization-curriculum\")\n",
      "Repository(full_name=\"khuyentran1401/Voronoi-diagram\")\n",
      "Repository(full_name=\"khuyentran1401/voyce\")\n",
      "Repository(full_name=\"khuyentran1401/Voyce_Project\")\n",
      "Repository(full_name=\"khuyentran1401/Web-scrape-Ghibli-Movie-Database\")\n",
      "Repository(full_name=\"khuyentran1401/Web-scrapping\")\n",
      "Repository(full_name=\"khuyentran1401/Web-Scrapping-Wikipedia\")\n",
      "Repository(full_name=\"khuyentran1401/world-population-prediction\")\n"
     ]
    }
   ],
   "source": [
    "for repo in user.get_repos():\n",
    "    print(repo)"
   ]
  },
  {
   "cell_type": "code",
   "execution_count": 15,
   "metadata": {},
   "outputs": [],
   "source": [
    "info = {}\n",
    "def print_repo(repo):\n",
    "    # repository full name\n",
    "    print(\"Full name:\", repo.full_name)\n",
    "    full_name = repo.full_name\n",
    "    # repository description\n",
    "    print(\"Description:\", repo.description)\n",
    "    description = repo.description\n",
    "    # the date of when the repo was created\n",
    "    print(\"Date created:\", repo.created_at)\n",
    "    created_at = repo.created_at\n",
    "    # home website (if available)\n",
    "    print(\"Home Page:\", repo.homepage)\n",
    "    homepage = repo.homepage\n",
    "    # programming language\n",
    "    print(\"Language:\", repo.language)\n",
    "    language = repo.language\n",
    "    # number of forks\n",
    "    print(\"Number of forks:\", repo.forks)\n",
    "    forks = repo.forks\n",
    "    # number of stars\n",
    "    print(\"Number of stars:\", repo.stargazers_count)\n",
    "    print(\"-\"*50)\n",
    "    num_stars = repo.stargazers_count\n",
    "    # repository content (files & directories)\n",
    "    print(\"Contents:\")\n",
    "    contents = []\n",
    "    for content in repo.get_contents(\"\"):\n",
    "        print(content)\n",
    "        contents.append(content)\n",
    "    return full_name, description, created_at, homepage, language, forks, num_stars, contents\n",
    "    "
   ]
  },
  {
   "cell_type": "code",
   "execution_count": 17,
   "metadata": {},
   "outputs": [
    {
     "name": "stdout",
     "output_type": "stream",
     "text": [
      "Full name: khuyentran1401/analyze-happiness-report\n",
      "Description: None\n",
      "Date created: 2019-11-26 13:58:16\n",
      "Home Page: None\n",
      "Language: Jupyter Notebook\n",
      "Number of forks: 0\n",
      "Number of stars: 0\n",
      "--------------------------------------------------\n",
      "Contents:\n",
      "ContentFile(path=\"README.md\")\n",
      "ContentFile(path=\"Screenshot 2020-04-06 11.00.51.png\")\n",
      "ContentFile(path=\"Screenshot 2020-04-06 11.03.29.png\")\n",
      "ContentFile(path=\"analyze-happiness-report.ipynb\")\n",
      "====================================================================================================\n",
      "Full name: khuyentran1401/Applied-Integer-Programming-with-Python\n",
      "Description: None\n",
      "Date created: 2019-12-23 03:12:24\n",
      "Home Page: https://medium.com/@khuyentran1476/choose-stocks-to-invest-with-python-584892e3ad22?\n",
      "Language: Jupyter Notebook\n",
      "Number of forks: 3\n",
      "Number of stars: 6\n",
      "--------------------------------------------------\n",
      "Contents:\n"
     ]
    },
    {
     "ename": "RateLimitExceededException",
     "evalue": "403 {\"message\": \"API rate limit exceeded for 69.49.79.99. (But here's the good news: Authenticated requests get a higher rate limit. Check out the documentation for more details.)\", \"documentation_url\": \"https://developer.github.com/v3/#rate-limiting\"}",
     "output_type": "error",
     "traceback": [
      "\u001b[0;31m---------------------------------------------------------------------------\u001b[0m",
      "\u001b[0;31mRateLimitExceededException\u001b[0m                Traceback (most recent call last)",
      "\u001b[0;32m<ipython-input-17-797a21286b70>\u001b[0m in \u001b[0;36m<module>\u001b[0;34m\u001b[0m\n\u001b[1;32m      1\u001b[0m \u001b[0;31m# iterate over all public repositories\u001b[0m\u001b[0;34m\u001b[0m\u001b[0;34m\u001b[0m\u001b[0;34m\u001b[0m\u001b[0m\n\u001b[1;32m      2\u001b[0m \u001b[0;32mfor\u001b[0m \u001b[0mi\u001b[0m\u001b[0;34m,\u001b[0m \u001b[0mrepo\u001b[0m \u001b[0;32min\u001b[0m \u001b[0menumerate\u001b[0m\u001b[0;34m(\u001b[0m\u001b[0muser\u001b[0m\u001b[0;34m.\u001b[0m\u001b[0mget_repos\u001b[0m\u001b[0;34m(\u001b[0m\u001b[0;34m)\u001b[0m\u001b[0;34m)\u001b[0m\u001b[0;34m:\u001b[0m\u001b[0;34m\u001b[0m\u001b[0;34m\u001b[0m\u001b[0m\n\u001b[0;32m----> 3\u001b[0;31m     \u001b[0mfull_name\u001b[0m\u001b[0;34m,\u001b[0m \u001b[0mdescription\u001b[0m\u001b[0;34m,\u001b[0m \u001b[0mcreated_at\u001b[0m\u001b[0;34m,\u001b[0m \u001b[0mhomepage\u001b[0m\u001b[0;34m,\u001b[0m \u001b[0mlanguage\u001b[0m\u001b[0;34m,\u001b[0m \u001b[0mforks\u001b[0m\u001b[0;34m,\u001b[0m \u001b[0mnum_stars\u001b[0m\u001b[0;34m,\u001b[0m \u001b[0mcontents\u001b[0m \u001b[0;34m=\u001b[0m \u001b[0mprint_repo\u001b[0m\u001b[0;34m(\u001b[0m\u001b[0mrepo\u001b[0m\u001b[0;34m)\u001b[0m\u001b[0;34m\u001b[0m\u001b[0;34m\u001b[0m\u001b[0m\n\u001b[0m\u001b[1;32m      4\u001b[0m     \u001b[0mprint\u001b[0m\u001b[0;34m(\u001b[0m\u001b[0;34m\"=\"\u001b[0m\u001b[0;34m*\u001b[0m\u001b[0;36m100\u001b[0m\u001b[0;34m)\u001b[0m\u001b[0;34m\u001b[0m\u001b[0;34m\u001b[0m\u001b[0m\n\u001b[1;32m      5\u001b[0m     \u001b[0minfo\u001b[0m\u001b[0;34m[\u001b[0m\u001b[0mi\u001b[0m\u001b[0;34m]\u001b[0m \u001b[0;34m=\u001b[0m \u001b[0;34m[\u001b[0m\u001b[0mfull_name\u001b[0m\u001b[0;34m,\u001b[0m \u001b[0mdescription\u001b[0m\u001b[0;34m,\u001b[0m \u001b[0mcreated_at\u001b[0m\u001b[0;34m,\u001b[0m \u001b[0mhomepage\u001b[0m\u001b[0;34m,\u001b[0m \u001b[0mlanguage\u001b[0m\u001b[0;34m,\u001b[0m \u001b[0mforks\u001b[0m\u001b[0;34m,\u001b[0m \u001b[0mnum_stars\u001b[0m\u001b[0;34m,\u001b[0m \u001b[0mcontents\u001b[0m\u001b[0;34m]\u001b[0m\u001b[0;34m\u001b[0m\u001b[0;34m\u001b[0m\u001b[0m\n",
      "\u001b[0;32m<ipython-input-15-652b7ae1f6c5>\u001b[0m in \u001b[0;36mprint_repo\u001b[0;34m(repo)\u001b[0m\n\u001b[1;32m     26\u001b[0m     \u001b[0mprint\u001b[0m\u001b[0;34m(\u001b[0m\u001b[0;34m\"Contents:\"\u001b[0m\u001b[0;34m)\u001b[0m\u001b[0;34m\u001b[0m\u001b[0;34m\u001b[0m\u001b[0m\n\u001b[1;32m     27\u001b[0m     \u001b[0mcontents\u001b[0m \u001b[0;34m=\u001b[0m \u001b[0;34m[\u001b[0m\u001b[0;34m]\u001b[0m\u001b[0;34m\u001b[0m\u001b[0;34m\u001b[0m\u001b[0m\n\u001b[0;32m---> 28\u001b[0;31m     \u001b[0;32mfor\u001b[0m \u001b[0mcontent\u001b[0m \u001b[0;32min\u001b[0m \u001b[0mrepo\u001b[0m\u001b[0;34m.\u001b[0m\u001b[0mget_contents\u001b[0m\u001b[0;34m(\u001b[0m\u001b[0;34m\"\"\u001b[0m\u001b[0;34m)\u001b[0m\u001b[0;34m:\u001b[0m\u001b[0;34m\u001b[0m\u001b[0;34m\u001b[0m\u001b[0m\n\u001b[0m\u001b[1;32m     29\u001b[0m         \u001b[0mprint\u001b[0m\u001b[0;34m(\u001b[0m\u001b[0mcontent\u001b[0m\u001b[0;34m)\u001b[0m\u001b[0;34m\u001b[0m\u001b[0;34m\u001b[0m\u001b[0m\n\u001b[1;32m     30\u001b[0m         \u001b[0mcontents\u001b[0m\u001b[0;34m.\u001b[0m\u001b[0mappend\u001b[0m\u001b[0;34m(\u001b[0m\u001b[0mcontent\u001b[0m\u001b[0;34m)\u001b[0m\u001b[0;34m\u001b[0m\u001b[0;34m\u001b[0m\u001b[0m\n",
      "\u001b[0;32m~/anaconda3/envs/scraping/lib/python3.8/site-packages/github/Repository.py\u001b[0m in \u001b[0;36mget_contents\u001b[0;34m(self, path, ref)\u001b[0m\n\u001b[1;32m   1755\u001b[0m         \u001b[0;32mif\u001b[0m \u001b[0mref\u001b[0m \u001b[0;32mis\u001b[0m \u001b[0;32mnot\u001b[0m \u001b[0mgithub\u001b[0m\u001b[0;34m.\u001b[0m\u001b[0mGithubObject\u001b[0m\u001b[0;34m.\u001b[0m\u001b[0mNotSet\u001b[0m\u001b[0;34m:\u001b[0m\u001b[0;34m\u001b[0m\u001b[0;34m\u001b[0m\u001b[0m\n\u001b[1;32m   1756\u001b[0m             \u001b[0murl_parameters\u001b[0m\u001b[0;34m[\u001b[0m\u001b[0;34m\"ref\"\u001b[0m\u001b[0;34m]\u001b[0m \u001b[0;34m=\u001b[0m \u001b[0mref\u001b[0m\u001b[0;34m\u001b[0m\u001b[0;34m\u001b[0m\u001b[0m\n\u001b[0;32m-> 1757\u001b[0;31m         headers, data = self._requester.requestJsonAndCheck(\n\u001b[0m\u001b[1;32m   1758\u001b[0m             \u001b[0;34m\"GET\"\u001b[0m\u001b[0;34m,\u001b[0m\u001b[0;34m\u001b[0m\u001b[0;34m\u001b[0m\u001b[0m\n\u001b[1;32m   1759\u001b[0m             \u001b[0mself\u001b[0m\u001b[0;34m.\u001b[0m\u001b[0murl\u001b[0m \u001b[0;34m+\u001b[0m \u001b[0;34m\"/contents/\"\u001b[0m \u001b[0;34m+\u001b[0m \u001b[0murllib\u001b[0m\u001b[0;34m.\u001b[0m\u001b[0mparse\u001b[0m\u001b[0;34m.\u001b[0m\u001b[0mquote\u001b[0m\u001b[0;34m(\u001b[0m\u001b[0mpath\u001b[0m\u001b[0;34m)\u001b[0m\u001b[0;34m,\u001b[0m\u001b[0;34m\u001b[0m\u001b[0;34m\u001b[0m\u001b[0m\n",
      "\u001b[0;32m~/anaconda3/envs/scraping/lib/python3.8/site-packages/github/Requester.py\u001b[0m in \u001b[0;36mrequestJsonAndCheck\u001b[0;34m(self, verb, url, parameters, headers, input)\u001b[0m\n\u001b[1;32m    315\u001b[0m \u001b[0;34m\u001b[0m\u001b[0m\n\u001b[1;32m    316\u001b[0m     \u001b[0;32mdef\u001b[0m \u001b[0mrequestJsonAndCheck\u001b[0m\u001b[0;34m(\u001b[0m\u001b[0mself\u001b[0m\u001b[0;34m,\u001b[0m \u001b[0mverb\u001b[0m\u001b[0;34m,\u001b[0m \u001b[0murl\u001b[0m\u001b[0;34m,\u001b[0m \u001b[0mparameters\u001b[0m\u001b[0;34m=\u001b[0m\u001b[0;32mNone\u001b[0m\u001b[0;34m,\u001b[0m \u001b[0mheaders\u001b[0m\u001b[0;34m=\u001b[0m\u001b[0;32mNone\u001b[0m\u001b[0;34m,\u001b[0m \u001b[0minput\u001b[0m\u001b[0;34m=\u001b[0m\u001b[0;32mNone\u001b[0m\u001b[0;34m)\u001b[0m\u001b[0;34m:\u001b[0m\u001b[0;34m\u001b[0m\u001b[0;34m\u001b[0m\u001b[0m\n\u001b[0;32m--> 317\u001b[0;31m         return self.__check(\n\u001b[0m\u001b[1;32m    318\u001b[0m             *self.requestJson(\n\u001b[1;32m    319\u001b[0m                 \u001b[0mverb\u001b[0m\u001b[0;34m,\u001b[0m \u001b[0murl\u001b[0m\u001b[0;34m,\u001b[0m \u001b[0mparameters\u001b[0m\u001b[0;34m,\u001b[0m \u001b[0mheaders\u001b[0m\u001b[0;34m,\u001b[0m \u001b[0minput\u001b[0m\u001b[0;34m,\u001b[0m \u001b[0mself\u001b[0m\u001b[0;34m.\u001b[0m\u001b[0m__customConnection\u001b[0m\u001b[0;34m(\u001b[0m\u001b[0murl\u001b[0m\u001b[0;34m)\u001b[0m\u001b[0;34m\u001b[0m\u001b[0;34m\u001b[0m\u001b[0m\n",
      "\u001b[0;32m~/anaconda3/envs/scraping/lib/python3.8/site-packages/github/Requester.py\u001b[0m in \u001b[0;36m__check\u001b[0;34m(self, status, responseHeaders, output)\u001b[0m\n\u001b[1;32m    340\u001b[0m         \u001b[0moutput\u001b[0m \u001b[0;34m=\u001b[0m \u001b[0mself\u001b[0m\u001b[0;34m.\u001b[0m\u001b[0m__structuredFromJson\u001b[0m\u001b[0;34m(\u001b[0m\u001b[0moutput\u001b[0m\u001b[0;34m)\u001b[0m\u001b[0;34m\u001b[0m\u001b[0;34m\u001b[0m\u001b[0m\n\u001b[1;32m    341\u001b[0m         \u001b[0;32mif\u001b[0m \u001b[0mstatus\u001b[0m \u001b[0;34m>=\u001b[0m \u001b[0;36m400\u001b[0m\u001b[0;34m:\u001b[0m\u001b[0;34m\u001b[0m\u001b[0;34m\u001b[0m\u001b[0m\n\u001b[0;32m--> 342\u001b[0;31m             \u001b[0;32mraise\u001b[0m \u001b[0mself\u001b[0m\u001b[0;34m.\u001b[0m\u001b[0m__createException\u001b[0m\u001b[0;34m(\u001b[0m\u001b[0mstatus\u001b[0m\u001b[0;34m,\u001b[0m \u001b[0mresponseHeaders\u001b[0m\u001b[0;34m,\u001b[0m \u001b[0moutput\u001b[0m\u001b[0;34m)\u001b[0m\u001b[0;34m\u001b[0m\u001b[0;34m\u001b[0m\u001b[0m\n\u001b[0m\u001b[1;32m    343\u001b[0m         \u001b[0;32mreturn\u001b[0m \u001b[0mresponseHeaders\u001b[0m\u001b[0;34m,\u001b[0m \u001b[0moutput\u001b[0m\u001b[0;34m\u001b[0m\u001b[0;34m\u001b[0m\u001b[0m\n\u001b[1;32m    344\u001b[0m \u001b[0;34m\u001b[0m\u001b[0m\n",
      "\u001b[0;31mRateLimitExceededException\u001b[0m: 403 {\"message\": \"API rate limit exceeded for 69.49.79.99. (But here's the good news: Authenticated requests get a higher rate limit. Check out the documentation for more details.)\", \"documentation_url\": \"https://developer.github.com/v3/#rate-limiting\"}"
     ]
    }
   ],
   "source": [
    "# iterate over all public repositories\n",
    "for i, repo in enumerate(user.get_repos()):\n",
    "    full_name, description, created_at, homepage, language, forks, num_stars, contents = print_repo(repo)\n",
    "    print(\"=\"*100)\n",
    "    info[i] = [full_name, description, created_at, homepage, language, forks, num_stars, contents]"
   ]
  },
  {
   "cell_type": "code",
   "execution_count": 28,
   "metadata": {},
   "outputs": [
    {
     "ename": "RateLimitExceededException",
     "evalue": "403 {\"message\": \"API rate limit exceeded for 69.49.79.99. (But here's the good news: Authenticated requests get a higher rate limit. Check out the documentation for more details.)\", \"documentation_url\": \"https://developer.github.com/v3/#rate-limiting\"}",
     "output_type": "error",
     "traceback": [
      "\u001b[0;31m---------------------------------------------------------------------------\u001b[0m",
      "\u001b[0;31mRateLimitExceededException\u001b[0m                Traceback (most recent call last)",
      "\u001b[0;32m<ipython-input-28-12c921f34cf0>\u001b[0m in \u001b[0;36m<module>\u001b[0;34m\u001b[0m\n\u001b[0;32m----> 1\u001b[0;31m \u001b[0muser\u001b[0m \u001b[0;34m=\u001b[0m \u001b[0mg\u001b[0m\u001b[0;34m.\u001b[0m\u001b[0mget_user\u001b[0m\u001b[0;34m(\u001b[0m\u001b[0;34m'khuyentran1401'\u001b[0m\u001b[0;34m)\u001b[0m\u001b[0;34m\u001b[0m\u001b[0;34m\u001b[0m\u001b[0m\n\u001b[0m",
      "\u001b[0;32m~/anaconda3/envs/scraping/lib/python3.8/site-packages/github/MainClass.py\u001b[0m in \u001b[0;36mget_user\u001b[0;34m(self, login)\u001b[0m\n\u001b[1;32m    260\u001b[0m             )\n\u001b[1;32m    261\u001b[0m         \u001b[0;32melse\u001b[0m\u001b[0;34m:\u001b[0m\u001b[0;34m\u001b[0m\u001b[0;34m\u001b[0m\u001b[0m\n\u001b[0;32m--> 262\u001b[0;31m             headers, data = self.__requester.requestJsonAndCheck(\n\u001b[0m\u001b[1;32m    263\u001b[0m                 \u001b[0;34m\"GET\"\u001b[0m\u001b[0;34m,\u001b[0m \u001b[0;34m\"/users/\"\u001b[0m \u001b[0;34m+\u001b[0m \u001b[0mlogin\u001b[0m\u001b[0;34m\u001b[0m\u001b[0;34m\u001b[0m\u001b[0m\n\u001b[1;32m    264\u001b[0m             )\n",
      "\u001b[0;32m~/anaconda3/envs/scraping/lib/python3.8/site-packages/github/Requester.py\u001b[0m in \u001b[0;36mrequestJsonAndCheck\u001b[0;34m(self, verb, url, parameters, headers, input)\u001b[0m\n\u001b[1;32m    315\u001b[0m \u001b[0;34m\u001b[0m\u001b[0m\n\u001b[1;32m    316\u001b[0m     \u001b[0;32mdef\u001b[0m \u001b[0mrequestJsonAndCheck\u001b[0m\u001b[0;34m(\u001b[0m\u001b[0mself\u001b[0m\u001b[0;34m,\u001b[0m \u001b[0mverb\u001b[0m\u001b[0;34m,\u001b[0m \u001b[0murl\u001b[0m\u001b[0;34m,\u001b[0m \u001b[0mparameters\u001b[0m\u001b[0;34m=\u001b[0m\u001b[0;32mNone\u001b[0m\u001b[0;34m,\u001b[0m \u001b[0mheaders\u001b[0m\u001b[0;34m=\u001b[0m\u001b[0;32mNone\u001b[0m\u001b[0;34m,\u001b[0m \u001b[0minput\u001b[0m\u001b[0;34m=\u001b[0m\u001b[0;32mNone\u001b[0m\u001b[0;34m)\u001b[0m\u001b[0;34m:\u001b[0m\u001b[0;34m\u001b[0m\u001b[0;34m\u001b[0m\u001b[0m\n\u001b[0;32m--> 317\u001b[0;31m         return self.__check(\n\u001b[0m\u001b[1;32m    318\u001b[0m             *self.requestJson(\n\u001b[1;32m    319\u001b[0m                 \u001b[0mverb\u001b[0m\u001b[0;34m,\u001b[0m \u001b[0murl\u001b[0m\u001b[0;34m,\u001b[0m \u001b[0mparameters\u001b[0m\u001b[0;34m,\u001b[0m \u001b[0mheaders\u001b[0m\u001b[0;34m,\u001b[0m \u001b[0minput\u001b[0m\u001b[0;34m,\u001b[0m \u001b[0mself\u001b[0m\u001b[0;34m.\u001b[0m\u001b[0m__customConnection\u001b[0m\u001b[0;34m(\u001b[0m\u001b[0murl\u001b[0m\u001b[0;34m)\u001b[0m\u001b[0;34m\u001b[0m\u001b[0;34m\u001b[0m\u001b[0m\n",
      "\u001b[0;32m~/anaconda3/envs/scraping/lib/python3.8/site-packages/github/Requester.py\u001b[0m in \u001b[0;36m__check\u001b[0;34m(self, status, responseHeaders, output)\u001b[0m\n\u001b[1;32m    340\u001b[0m         \u001b[0moutput\u001b[0m \u001b[0;34m=\u001b[0m \u001b[0mself\u001b[0m\u001b[0;34m.\u001b[0m\u001b[0m__structuredFromJson\u001b[0m\u001b[0;34m(\u001b[0m\u001b[0moutput\u001b[0m\u001b[0;34m)\u001b[0m\u001b[0;34m\u001b[0m\u001b[0;34m\u001b[0m\u001b[0m\n\u001b[1;32m    341\u001b[0m         \u001b[0;32mif\u001b[0m \u001b[0mstatus\u001b[0m \u001b[0;34m>=\u001b[0m \u001b[0;36m400\u001b[0m\u001b[0;34m:\u001b[0m\u001b[0;34m\u001b[0m\u001b[0;34m\u001b[0m\u001b[0m\n\u001b[0;32m--> 342\u001b[0;31m             \u001b[0;32mraise\u001b[0m \u001b[0mself\u001b[0m\u001b[0;34m.\u001b[0m\u001b[0m__createException\u001b[0m\u001b[0;34m(\u001b[0m\u001b[0mstatus\u001b[0m\u001b[0;34m,\u001b[0m \u001b[0mresponseHeaders\u001b[0m\u001b[0;34m,\u001b[0m \u001b[0moutput\u001b[0m\u001b[0;34m)\u001b[0m\u001b[0;34m\u001b[0m\u001b[0;34m\u001b[0m\u001b[0m\n\u001b[0m\u001b[1;32m    343\u001b[0m         \u001b[0;32mreturn\u001b[0m \u001b[0mresponseHeaders\u001b[0m\u001b[0;34m,\u001b[0m \u001b[0moutput\u001b[0m\u001b[0;34m\u001b[0m\u001b[0;34m\u001b[0m\u001b[0m\n\u001b[1;32m    344\u001b[0m \u001b[0;34m\u001b[0m\u001b[0m\n",
      "\u001b[0;31mRateLimitExceededException\u001b[0m: 403 {\"message\": \"API rate limit exceeded for 69.49.79.99. (But here's the good news: Authenticated requests get a higher rate limit. Check out the documentation for more details.)\", \"documentation_url\": \"https://developer.github.com/v3/#rate-limiting\"}"
     ]
    }
   ],
   "source": [
    "user = g.get_user('khuyentran1401')"
   ]
  },
  {
   "cell_type": "code",
   "execution_count": null,
   "metadata": {},
   "outputs": [],
   "source": []
  }
 ],
 "metadata": {
  "kernelspec": {
   "display_name": "Python 3",
   "language": "python",
   "name": "python3"
  },
  "language_info": {
   "codemirror_mode": {
    "name": "ipython",
    "version": 3
   },
   "file_extension": ".py",
   "mimetype": "text/x-python",
   "name": "python",
   "nbconvert_exporter": "python",
   "pygments_lexer": "ipython3",
   "version": "3.8.3"
  }
 },
 "nbformat": 4,
 "nbformat_minor": 4
}
