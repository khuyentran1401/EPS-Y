{
 "cells": [
  {
   "cell_type": "code",
   "execution_count": 1,
   "metadata": {
    "ExecuteTime": {
     "end_time": "2020-06-30T15:56:20.079837Z",
     "start_time": "2020-06-30T15:56:18.932281Z"
    },
    "scrolled": true
   },
   "outputs": [
    {
     "data": {
      "text/html": [
       "<div>\n",
       "<style scoped>\n",
       "    .dataframe tbody tr th:only-of-type {\n",
       "        vertical-align: middle;\n",
       "    }\n",
       "\n",
       "    .dataframe tbody tr th {\n",
       "        vertical-align: top;\n",
       "    }\n",
       "\n",
       "    .dataframe thead th {\n",
       "        text-align: right;\n",
       "    }\n",
       "</style>\n",
       "<table border=\"1\" class=\"dataframe\">\n",
       "  <thead>\n",
       "    <tr style=\"text-align: right;\">\n",
       "      <th></th>\n",
       "      <th>user_name</th>\n",
       "      <th>name</th>\n",
       "      <th>type_user</th>\n",
       "      <th>html_url</th>\n",
       "      <th>bio</th>\n",
       "      <th>company</th>\n",
       "      <th>email</th>\n",
       "      <th>followers</th>\n",
       "      <th>following</th>\n",
       "      <th>hireable</th>\n",
       "      <th>location</th>\n",
       "      <th>created_at</th>\n",
       "      <th>updated_at</th>\n",
       "      <th>total_stars</th>\n",
       "      <th>max_star</th>\n",
       "      <th>forks</th>\n",
       "      <th>languages</th>\n",
       "      <th>descriptions</th>\n",
       "      <th>dates</th>\n",
       "    </tr>\n",
       "  </thead>\n",
       "  <tbody>\n",
       "    <tr>\n",
       "      <th>0</th>\n",
       "      <td>josephmisiti</td>\n",
       "      <td>Joseph Misiti</td>\n",
       "      <td>Owner</td>\n",
       "      <td>https://github.com/josephmisiti</td>\n",
       "      <td>Mathematician &amp; Co-founder of Math &amp; Pencil</td>\n",
       "      <td>Math &amp; Pencil</td>\n",
       "      <td>None</td>\n",
       "      <td>2482</td>\n",
       "      <td>273</td>\n",
       "      <td>True</td>\n",
       "      <td>Brooklyn, NY</td>\n",
       "      <td>2010-04-17 21:09:13</td>\n",
       "      <td>2020-06-18 19:43:56</td>\n",
       "      <td>45137</td>\n",
       "      <td>45132</td>\n",
       "      <td>11411</td>\n",
       "      <td>[Python, None, None, Python, Python]</td>\n",
       "      <td>[review of algorithms in python, Applied Linea...</td>\n",
       "      <td>[2017-01-09 05:56:49, 2015-04-08 03:18:50, 201...</td>\n",
       "    </tr>\n",
       "    <tr>\n",
       "      <th>1</th>\n",
       "      <td>wepe</td>\n",
       "      <td>wepon</td>\n",
       "      <td>Owner</td>\n",
       "      <td>https://github.com/wepe</td>\n",
       "      <td>None</td>\n",
       "      <td>AntFin</td>\n",
       "      <td>wepon@pku.edu.cn</td>\n",
       "      <td>4503</td>\n",
       "      <td>47</td>\n",
       "      <td>None</td>\n",
       "      <td>China Hangzhou</td>\n",
       "      <td>2014-10-10 14:28:18</td>\n",
       "      <td>2020-06-15 14:01:30</td>\n",
       "      <td>5926</td>\n",
       "      <td>3803</td>\n",
       "      <td>4248</td>\n",
       "      <td>[Python, Python, Python, Java, Java]</td>\n",
       "      <td>[Solution Code for Kaggle Competition, Basic M...</td>\n",
       "      <td>[2020-06-22 02:26:16, 2020-06-24 02:25:29, 202...</td>\n",
       "    </tr>\n",
       "    <tr>\n",
       "      <th>2</th>\n",
       "      <td>udacity</td>\n",
       "      <td>Udacity</td>\n",
       "      <td>Owner</td>\n",
       "      <td>https://github.com/udacity</td>\n",
       "      <td>Udacity’s mission is to power careers through ...</td>\n",
       "      <td>None</td>\n",
       "      <td>support@udacity.com</td>\n",
       "      <td>0</td>\n",
       "      <td>0</td>\n",
       "      <td>None</td>\n",
       "      <td>Mountain View, CA</td>\n",
       "      <td>2012-07-03 03:51:49</td>\n",
       "      <td>2019-08-29 23:44:14</td>\n",
       "      <td>18771</td>\n",
       "      <td>5317</td>\n",
       "      <td>12659</td>\n",
       "      <td>[Jupyter Notebook, Jupyter Notebook, Jupyter N...</td>\n",
       "      <td>[Repo for the Deep Learning Nanodegree Foundat...</td>\n",
       "      <td>[2020-06-23 13:12:09, 2020-06-23 19:54:10, 202...</td>\n",
       "    </tr>\n",
       "    <tr>\n",
       "      <th>3</th>\n",
       "      <td>ZuzooVn</td>\n",
       "      <td>Nam Vu</td>\n",
       "      <td>Owner</td>\n",
       "      <td>https://github.com/ZuzooVn</td>\n",
       "      <td>A Vietnamese Software Engineer who is really p...</td>\n",
       "      <td>None</td>\n",
       "      <td>zuzoovn@gmail.com</td>\n",
       "      <td>1187</td>\n",
       "      <td>91</td>\n",
       "      <td>True</td>\n",
       "      <td>Vietnam</td>\n",
       "      <td>2012-02-11 16:55:02</td>\n",
       "      <td>2020-06-11 19:42:17</td>\n",
       "      <td>23864</td>\n",
       "      <td>23862</td>\n",
       "      <td>5622</td>\n",
       "      <td>[JavaScript, JavaScript, None, Java, JavaScript]</td>\n",
       "      <td>[None, Hextelor is a game that tests your brai...</td>\n",
       "      <td>[2019-12-30 11:08:25, 2016-08-11 10:40:09, 202...</td>\n",
       "    </tr>\n",
       "    <tr>\n",
       "      <th>4</th>\n",
       "      <td>rasbt</td>\n",
       "      <td>Sebastian Raschka</td>\n",
       "      <td>Owner</td>\n",
       "      <td>https://github.com/rasbt</td>\n",
       "      <td>Machine Learning researcher &amp; open source cont...</td>\n",
       "      <td>UW-Madison</td>\n",
       "      <td>mail@sebastianraschka.com</td>\n",
       "      <td>12647</td>\n",
       "      <td>33</td>\n",
       "      <td>None</td>\n",
       "      <td>Madison, WI</td>\n",
       "      <td>2013-10-05 16:06:10</td>\n",
       "      <td>2020-06-23 15:56:31</td>\n",
       "      <td>35623</td>\n",
       "      <td>12483</td>\n",
       "      <td>11582</td>\n",
       "      <td>[Jupyter Notebook, Python, Jupyter Notebook, J...</td>\n",
       "      <td>[A collection of various deep learning archite...</td>\n",
       "      <td>[2020-06-23 19:09:56, 2020-06-23 08:44:59, 202...</td>\n",
       "    </tr>\n",
       "    <tr>\n",
       "      <th>...</th>\n",
       "      <td>...</td>\n",
       "      <td>...</td>\n",
       "      <td>...</td>\n",
       "      <td>...</td>\n",
       "      <td>...</td>\n",
       "      <td>...</td>\n",
       "      <td>...</td>\n",
       "      <td>...</td>\n",
       "      <td>...</td>\n",
       "      <td>...</td>\n",
       "      <td>...</td>\n",
       "      <td>...</td>\n",
       "      <td>...</td>\n",
       "      <td>...</td>\n",
       "      <td>...</td>\n",
       "      <td>...</td>\n",
       "      <td>...</td>\n",
       "      <td>...</td>\n",
       "      <td>...</td>\n",
       "    </tr>\n",
       "    <tr>\n",
       "      <th>1147</th>\n",
       "      <td>jimmysoa</td>\n",
       "      <td>Jimmy</td>\n",
       "      <td>Contributor</td>\n",
       "      <td>https://github.com/jimmysoa</td>\n",
       "      <td>None</td>\n",
       "      <td>None</td>\n",
       "      <td>jimmysoa@sina.cn</td>\n",
       "      <td>503</td>\n",
       "      <td>5</td>\n",
       "      <td>None</td>\n",
       "      <td>BEIJING</td>\n",
       "      <td>2014-01-07 01:45:17</td>\n",
       "      <td>2020-06-09 06:30:52</td>\n",
       "      <td>0</td>\n",
       "      <td>0</td>\n",
       "      <td>0</td>\n",
       "      <td>[None, None]</td>\n",
       "      <td>[more choices by just spending some memory, pa...</td>\n",
       "      <td>[2014-12-18 13:17:45, 2015-06-04 09:18:10]</td>\n",
       "    </tr>\n",
       "    <tr>\n",
       "      <th>1148</th>\n",
       "      <td>vizhur</td>\n",
       "      <td>None</td>\n",
       "      <td>Contributor</td>\n",
       "      <td>https://github.com/vizhur</td>\n",
       "      <td>None</td>\n",
       "      <td>Microsoft</td>\n",
       "      <td>None</td>\n",
       "      <td>1</td>\n",
       "      <td>0</td>\n",
       "      <td>None</td>\n",
       "      <td>Boston, MA</td>\n",
       "      <td>2016-08-13 02:27:50</td>\n",
       "      <td>2020-03-19 02:06:57</td>\n",
       "      <td>0</td>\n",
       "      <td>0</td>\n",
       "      <td>0</td>\n",
       "      <td>[None, Jupyter Notebook, Python, Python, Python]</td>\n",
       "      <td>[None, None, None, None, None]</td>\n",
       "      <td>[2019-04-09 21:17:36, 2017-10-13 22:40:33, 201...</td>\n",
       "    </tr>\n",
       "    <tr>\n",
       "      <th>1149</th>\n",
       "      <td>rdingwall</td>\n",
       "      <td>Richard Dingwall</td>\n",
       "      <td>Contributor</td>\n",
       "      <td>https://github.com/rdingwall</td>\n",
       "      <td>Building a bank at @monzo</td>\n",
       "      <td>Monzo</td>\n",
       "      <td>rdingwall@gmail.com</td>\n",
       "      <td>81</td>\n",
       "      <td>25</td>\n",
       "      <td>None</td>\n",
       "      <td>New York City</td>\n",
       "      <td>2009-12-20 03:44:34</td>\n",
       "      <td>2020-05-24 15:05:37</td>\n",
       "      <td>444</td>\n",
       "      <td>387</td>\n",
       "      <td>64</td>\n",
       "      <td>[JavaScript, None, None, C#, C#]</td>\n",
       "      <td>[100 Books (http://100books.ws) is a website t...</td>\n",
       "      <td>[2015-12-15 09:03:30, 2020-05-24 23:08:23, 201...</td>\n",
       "    </tr>\n",
       "    <tr>\n",
       "      <th>1150</th>\n",
       "      <td>xiaomaogy</td>\n",
       "      <td>Vincent(Yuan) Gao</td>\n",
       "      <td>Contributor</td>\n",
       "      <td>https://github.com/xiaomaogy</td>\n",
       "      <td>ML Engineer working on ml-agents.</td>\n",
       "      <td>Unity Technologies</td>\n",
       "      <td>vincentg@unity3d.com</td>\n",
       "      <td>34</td>\n",
       "      <td>13</td>\n",
       "      <td>True</td>\n",
       "      <td>San Francisco, CA</td>\n",
       "      <td>2013-11-19 22:23:08</td>\n",
       "      <td>2020-06-01 16:50:12</td>\n",
       "      <td>9</td>\n",
       "      <td>6</td>\n",
       "      <td>5</td>\n",
       "      <td>[PHP, Jupyter Notebook, Jupyter Notebook, Java...</td>\n",
       "      <td>[None, Used text to first train an Recurrent N...</td>\n",
       "      <td>[2015-03-31 17:29:53, 2018-04-25 08:28:41, 201...</td>\n",
       "    </tr>\n",
       "    <tr>\n",
       "      <th>1151</th>\n",
       "      <td>caleb-kaiser</td>\n",
       "      <td>Caleb Kaiser</td>\n",
       "      <td>Contributor</td>\n",
       "      <td>https://github.com/caleb-kaiser</td>\n",
       "      <td>None</td>\n",
       "      <td>@cortexlabs</td>\n",
       "      <td>None</td>\n",
       "      <td>28</td>\n",
       "      <td>1</td>\n",
       "      <td>None</td>\n",
       "      <td>None</td>\n",
       "      <td>2018-08-03 20:11:47</td>\n",
       "      <td>2020-05-14 15:51:40</td>\n",
       "      <td>14</td>\n",
       "      <td>14</td>\n",
       "      <td>1</td>\n",
       "      <td>[JavaScript, JavaScript]</td>\n",
       "      <td>[Can you tell the difference between ML genera...</td>\n",
       "      <td>[2020-05-05 03:04:16, 2020-06-22 13:56:09]</td>\n",
       "    </tr>\n",
       "  </tbody>\n",
       "</table>\n",
       "<p>1152 rows × 19 columns</p>\n",
       "</div>"
      ],
      "text/plain": [
       "         user_name               name    type_user  \\\n",
       "0     josephmisiti      Joseph Misiti        Owner   \n",
       "1             wepe              wepon        Owner   \n",
       "2          udacity            Udacity        Owner   \n",
       "3          ZuzooVn             Nam Vu        Owner   \n",
       "4            rasbt  Sebastian Raschka        Owner   \n",
       "...            ...                ...          ...   \n",
       "1147      jimmysoa              Jimmy  Contributor   \n",
       "1148        vizhur               None  Contributor   \n",
       "1149     rdingwall   Richard Dingwall  Contributor   \n",
       "1150     xiaomaogy  Vincent(Yuan) Gao  Contributor   \n",
       "1151  caleb-kaiser       Caleb Kaiser  Contributor   \n",
       "\n",
       "                             html_url  \\\n",
       "0     https://github.com/josephmisiti   \n",
       "1             https://github.com/wepe   \n",
       "2          https://github.com/udacity   \n",
       "3          https://github.com/ZuzooVn   \n",
       "4            https://github.com/rasbt   \n",
       "...                               ...   \n",
       "1147      https://github.com/jimmysoa   \n",
       "1148        https://github.com/vizhur   \n",
       "1149     https://github.com/rdingwall   \n",
       "1150     https://github.com/xiaomaogy   \n",
       "1151  https://github.com/caleb-kaiser   \n",
       "\n",
       "                                                    bio             company  \\\n",
       "0           Mathematician & Co-founder of Math & Pencil      Math & Pencil    \n",
       "1                                                  None              AntFin   \n",
       "2     Udacity’s mission is to power careers through ...                None   \n",
       "3     A Vietnamese Software Engineer who is really p...                None   \n",
       "4     Machine Learning researcher & open source cont...          UW-Madison   \n",
       "...                                                 ...                 ...   \n",
       "1147                                               None                None   \n",
       "1148                                               None           Microsoft   \n",
       "1149                         Building a bank at @monzo                Monzo   \n",
       "1150                 ML Engineer working on ml-agents.   Unity Technologies   \n",
       "1151                                               None        @cortexlabs    \n",
       "\n",
       "                          email followers following hireable  \\\n",
       "0                          None      2482       273     True   \n",
       "1              wepon@pku.edu.cn      4503        47     None   \n",
       "2           support@udacity.com         0         0     None   \n",
       "3             zuzoovn@gmail.com      1187        91     True   \n",
       "4     mail@sebastianraschka.com     12647        33     None   \n",
       "...                         ...       ...       ...      ...   \n",
       "1147           jimmysoa@sina.cn       503         5     None   \n",
       "1148                       None         1         0     None   \n",
       "1149        rdingwall@gmail.com        81        25     None   \n",
       "1150       vincentg@unity3d.com        34        13     True   \n",
       "1151                       None        28         1     None   \n",
       "\n",
       "               location          created_at          updated_at total_stars  \\\n",
       "0          Brooklyn, NY 2010-04-17 21:09:13 2020-06-18 19:43:56       45137   \n",
       "1        China Hangzhou 2014-10-10 14:28:18 2020-06-15 14:01:30        5926   \n",
       "2     Mountain View, CA 2012-07-03 03:51:49 2019-08-29 23:44:14       18771   \n",
       "3               Vietnam 2012-02-11 16:55:02 2020-06-11 19:42:17       23864   \n",
       "4           Madison, WI 2013-10-05 16:06:10 2020-06-23 15:56:31       35623   \n",
       "...                 ...                 ...                 ...         ...   \n",
       "1147            BEIJING 2014-01-07 01:45:17 2020-06-09 06:30:52           0   \n",
       "1148         Boston, MA 2016-08-13 02:27:50 2020-03-19 02:06:57           0   \n",
       "1149      New York City 2009-12-20 03:44:34 2020-05-24 15:05:37         444   \n",
       "1150  San Francisco, CA 2013-11-19 22:23:08 2020-06-01 16:50:12           9   \n",
       "1151               None 2018-08-03 20:11:47 2020-05-14 15:51:40          14   \n",
       "\n",
       "     max_star  forks                                          languages  \\\n",
       "0       45132  11411               [Python, None, None, Python, Python]   \n",
       "1        3803   4248               [Python, Python, Python, Java, Java]   \n",
       "2        5317  12659  [Jupyter Notebook, Jupyter Notebook, Jupyter N...   \n",
       "3       23862   5622   [JavaScript, JavaScript, None, Java, JavaScript]   \n",
       "4       12483  11582  [Jupyter Notebook, Python, Jupyter Notebook, J...   \n",
       "...       ...    ...                                                ...   \n",
       "1147        0      0                                       [None, None]   \n",
       "1148        0      0   [None, Jupyter Notebook, Python, Python, Python]   \n",
       "1149      387     64                   [JavaScript, None, None, C#, C#]   \n",
       "1150        6      5  [PHP, Jupyter Notebook, Jupyter Notebook, Java...   \n",
       "1151       14      1                           [JavaScript, JavaScript]   \n",
       "\n",
       "                                           descriptions  \\\n",
       "0     [review of algorithms in python, Applied Linea...   \n",
       "1     [Solution Code for Kaggle Competition, Basic M...   \n",
       "2     [Repo for the Deep Learning Nanodegree Foundat...   \n",
       "3     [None, Hextelor is a game that tests your brai...   \n",
       "4     [A collection of various deep learning archite...   \n",
       "...                                                 ...   \n",
       "1147  [more choices by just spending some memory, pa...   \n",
       "1148                     [None, None, None, None, None]   \n",
       "1149  [100 Books (http://100books.ws) is a website t...   \n",
       "1150  [None, Used text to first train an Recurrent N...   \n",
       "1151  [Can you tell the difference between ML genera...   \n",
       "\n",
       "                                                  dates  \n",
       "0     [2017-01-09 05:56:49, 2015-04-08 03:18:50, 201...  \n",
       "1     [2020-06-22 02:26:16, 2020-06-24 02:25:29, 202...  \n",
       "2     [2020-06-23 13:12:09, 2020-06-23 19:54:10, 202...  \n",
       "3     [2019-12-30 11:08:25, 2016-08-11 10:40:09, 202...  \n",
       "4     [2020-06-23 19:09:56, 2020-06-23 08:44:59, 202...  \n",
       "...                                                 ...  \n",
       "1147         [2014-12-18 13:17:45, 2015-06-04 09:18:10]  \n",
       "1148  [2019-04-09 21:17:36, 2017-10-13 22:40:33, 201...  \n",
       "1149  [2015-12-15 09:03:30, 2020-05-24 23:08:23, 201...  \n",
       "1150  [2015-03-31 17:29:53, 2018-04-25 08:28:41, 201...  \n",
       "1151         [2020-05-05 03:04:16, 2020-06-22 13:56:09]  \n",
       "\n",
       "[1152 rows x 19 columns]"
      ]
     },
     "execution_count": 1,
     "metadata": {},
     "output_type": "execute_result"
    }
   ],
   "source": [
    "import pickle \n",
    "import numpy as np \n",
    "import pandas as pd \n",
    "import datapane as dp \n",
    "import sweetviz\n",
    "\n",
    "profile = pickle.load(open('profile_df', 'rb'))\n",
    "\n",
    "profile "
   ]
  },
  {
   "cell_type": "code",
   "execution_count": null,
   "metadata": {},
   "outputs": [],
   "source": [
    "pickle.load(open('profile_df', 'rb'))"
   ]
  },
  {
   "cell_type": "code",
   "execution_count": 107,
   "metadata": {
    "ExecuteTime": {
     "end_time": "2020-06-25T18:33:09.824089Z",
     "start_time": "2020-06-25T18:33:09.818491Z"
    },
    "scrolled": true
   },
   "outputs": [
    {
     "data": {
      "text/plain": [
       "user_name       0.000000\n",
       "name            0.121528\n",
       "type_user       0.000000\n",
       "html_url        0.000000\n",
       "bio             0.523438\n",
       "company         0.486111\n",
       "email           0.568576\n",
       "followers       0.000000\n",
       "following       0.000000\n",
       "hireable        0.763021\n",
       "location        0.331597\n",
       "created_at      0.000000\n",
       "updated_at      0.000000\n",
       "total_stars     0.105035\n",
       "max_star        0.105035\n",
       "forks           0.105035\n",
       "languages       0.105035\n",
       "descriptions    0.105035\n",
       "dates           0.105035\n",
       "dtype: float64"
      ]
     },
     "execution_count": 107,
     "metadata": {},
     "output_type": "execute_result"
    }
   ],
   "source": [
    "#Find percentage of missing values\n",
    "profile.isnull().sum()/len(profile)"
   ]
  },
  {
   "cell_type": "code",
   "execution_count": 108,
   "metadata": {
    "ExecuteTime": {
     "end_time": "2020-06-25T18:33:11.892165Z",
     "start_time": "2020-06-25T18:33:11.882489Z"
    }
   },
   "outputs": [],
   "source": [
    "def process_languages(dup_languages):\n",
    "    \n",
    "    languages = None\n",
    "    try:\n",
    "        languages = list(set(dup_languages))\n",
    "        languages = [language for language in languages if language != None]\n",
    "    except:\n",
    "        pass\n",
    "    \n",
    "    return languages"
   ]
  },
  {
   "cell_type": "code",
   "execution_count": 109,
   "metadata": {
    "ExecuteTime": {
     "end_time": "2020-06-25T18:33:17.479672Z",
     "start_time": "2020-06-25T18:33:17.467675Z"
    }
   },
   "outputs": [],
   "source": [
    "def change_types(df):\n",
    "    \n",
    "    missing_columns = ['total_stars', 'max_star', 'forks']\n",
    "    \n",
    "    for col in missing_columns:\n",
    "        df[col].fillna(0, inplace=True)\n",
    "    \n",
    "    convert_dict = {'followers': int,\n",
    "               'following':int,\n",
    "               'hireable': bool,\n",
    "               'total_stars': int,\n",
    "               'max_star': int,\n",
    "               'forks': int}\n",
    "    \n",
    "    \n",
    "    df = df.astype(convert_dict)\n",
    "    \n",
    "    \n",
    "    \n",
    "    return df\n",
    "    "
   ]
  },
  {
   "cell_type": "code",
   "execution_count": 114,
   "metadata": {
    "ExecuteTime": {
     "end_time": "2020-06-25T18:34:10.506557Z",
     "start_time": "2020-06-25T18:34:10.497898Z"
    }
   },
   "outputs": [],
   "source": [
    "def process_df(df):\n",
    "    df.languages = df.languages.apply(process_languages)\n",
    "        \n",
    "    df = change_types(df)\n",
    "    \n",
    "    return df "
   ]
  },
  {
   "cell_type": "code",
   "execution_count": 116,
   "metadata": {
    "ExecuteTime": {
     "end_time": "2020-06-25T18:34:30.015861Z",
     "start_time": "2020-06-25T18:34:29.990146Z"
    }
   },
   "outputs": [],
   "source": [
    "new_profile = process_df(profile)"
   ]
  },
  {
   "cell_type": "code",
   "execution_count": 119,
   "metadata": {
    "ExecuteTime": {
     "end_time": "2020-06-25T18:34:58.329185Z",
     "start_time": "2020-06-25T18:34:58.309724Z"
    }
   },
   "outputs": [
    {
     "name": "stdout",
     "output_type": "stream",
     "text": [
      "<class 'pandas.core.frame.DataFrame'>\n",
      "RangeIndex: 1152 entries, 0 to 1151\n",
      "Data columns (total 19 columns):\n",
      " #   Column        Non-Null Count  Dtype         \n",
      "---  ------        --------------  -----         \n",
      " 0   user_name     1152 non-null   object        \n",
      " 1   name          1012 non-null   object        \n",
      " 2   type_user     1152 non-null   object        \n",
      " 3   html_url      1152 non-null   object        \n",
      " 4   bio           549 non-null    object        \n",
      " 5   company       592 non-null    object        \n",
      " 6   email         497 non-null    object        \n",
      " 7   followers     1152 non-null   int64         \n",
      " 8   following     1152 non-null   int64         \n",
      " 9   hireable      1152 non-null   bool          \n",
      " 10  location      770 non-null    object        \n",
      " 11  created_at    1152 non-null   datetime64[ns]\n",
      " 12  updated_at    1152 non-null   datetime64[ns]\n",
      " 13  total_stars   1152 non-null   int64         \n",
      " 14  max_star      1152 non-null   int64         \n",
      " 15  forks         1152 non-null   int64         \n",
      " 16  languages     1031 non-null   object        \n",
      " 17  descriptions  1031 non-null   object        \n",
      " 18  dates         1031 non-null   object        \n",
      "dtypes: bool(1), datetime64[ns](2), int64(5), object(11)\n",
      "memory usage: 163.2+ KB\n"
     ]
    }
   ],
   "source": [
    "new_profile.info()"
   ]
  },
  {
   "cell_type": "markdown",
   "metadata": {},
   "source": [
    "# Visualization"
   ]
  },
  {
   "cell_type": "code",
   "execution_count": 120,
   "metadata": {
    "ExecuteTime": {
     "end_time": "2020-06-25T18:35:05.289849Z",
     "start_time": "2020-06-25T18:35:05.282914Z"
    }
   },
   "outputs": [],
   "source": [
    "import altair as alt \n",
    "import matplotlib.pyplot as plt\n",
    "import numpy as np"
   ]
  },
  {
   "cell_type": "code",
   "execution_count": 11,
   "metadata": {
    "ExecuteTime": {
     "end_time": "2020-06-25T17:49:56.465571Z",
     "start_time": "2020-06-25T17:49:53.229085Z"
    },
    "deletable": false,
    "editable": false
   },
   "outputs": [
    {
     "name": "stdout",
     "output_type": "stream",
     "text": [
      "\u001b[34m12:49:53\u001b[0m [\u001b[32mINFO \u001b[0m] Uploading assets for Report\u001b[0m\n",
      "\u001b[34m12:49:54\u001b[0m [\u001b[32mINFO \u001b[0m] Uploading /home/khuyentran/EPS-Y/scrape_github/gitscrapy/gitscrapy/spiders/dp-tmp-emo1kpk8/dp-tmp-_h9smo17.arrow\u001b[0m\n",
      "\u001b[34m12:49:56\u001b[0m [\u001b[32mINFO \u001b[0m] Report published to Datapane as https://datapane.com/khuyentran1401/reports/null_profile/\u001b[0m\n"
     ]
    }
   ],
   "source": [
    "dp.Report(dp.Table(null_profile)).publish(name='null_profile')"
   ]
  },
  {
   "cell_type": "code",
   "execution_count": 122,
   "metadata": {
    "ExecuteTime": {
     "end_time": "2020-06-25T18:35:29.778040Z",
     "start_time": "2020-06-25T18:35:28.220881Z"
    }
   },
   "outputs": [
    {
     "data": {
      "text/plain": [
       "<BarContainer object of 1152 artists>"
      ]
     },
     "execution_count": 122,
     "metadata": {},
     "output_type": "execute_result"
    },
    {
     "data": {
      "image/png": "[encoded data removed]",
      "text/plain": [
       "<Figure size 432x288 with 1 Axes>"
      ]
     },
     "metadata": {
      "needs_background": "light"
     },
     "output_type": "display_data"
    }
   ],
   "source": [
    "plt.bar(np.arange(len(profile)), list(profile.followers))"
   ]
  },
  {
   "cell_type": "code",
   "execution_count": 123,
   "metadata": {
    "ExecuteTime": {
     "end_time": "2020-06-25T18:35:32.124742Z",
     "start_time": "2020-06-25T18:35:32.022646Z"
    }
   },
   "outputs": [
    {
     "ename": "TypeError",
     "evalue": "Object of type datetime is not JSON serializable",
     "output_type": "error",
     "traceback": [
      "\u001b[0;31m---------------------------------------------------------------------------\u001b[0m",
      "\u001b[0;31mTypeError\u001b[0m                                 Traceback (most recent call last)",
      "\u001b[0;32m~/anaconda3/envs/scraping/lib/python3.8/site-packages/altair/vegalite/v4/api.py\u001b[0m in \u001b[0;36mto_dict\u001b[0;34m(self, *args, **kwargs)\u001b[0m\n\u001b[1;32m    361\u001b[0m         \u001b[0mcopy\u001b[0m \u001b[0;34m=\u001b[0m \u001b[0mself\u001b[0m\u001b[0;34m.\u001b[0m\u001b[0mcopy\u001b[0m\u001b[0;34m(\u001b[0m\u001b[0mdeep\u001b[0m\u001b[0;34m=\u001b[0m\u001b[0;32mFalse\u001b[0m\u001b[0;34m)\u001b[0m\u001b[0;34m\u001b[0m\u001b[0;34m\u001b[0m\u001b[0m\n\u001b[1;32m    362\u001b[0m         \u001b[0moriginal_data\u001b[0m \u001b[0;34m=\u001b[0m \u001b[0mgetattr\u001b[0m\u001b[0;34m(\u001b[0m\u001b[0mcopy\u001b[0m\u001b[0;34m,\u001b[0m \u001b[0;34m\"data\"\u001b[0m\u001b[0;34m,\u001b[0m \u001b[0mUndefined\u001b[0m\u001b[0;34m)\u001b[0m\u001b[0;34m\u001b[0m\u001b[0;34m\u001b[0m\u001b[0m\n\u001b[0;32m--> 363\u001b[0;31m         \u001b[0mcopy\u001b[0m\u001b[0;34m.\u001b[0m\u001b[0mdata\u001b[0m \u001b[0;34m=\u001b[0m \u001b[0m_prepare_data\u001b[0m\u001b[0;34m(\u001b[0m\u001b[0moriginal_data\u001b[0m\u001b[0;34m,\u001b[0m \u001b[0mcontext\u001b[0m\u001b[0;34m)\u001b[0m\u001b[0;34m\u001b[0m\u001b[0;34m\u001b[0m\u001b[0m\n\u001b[0m\u001b[1;32m    364\u001b[0m \u001b[0;34m\u001b[0m\u001b[0m\n\u001b[1;32m    365\u001b[0m         \u001b[0;32mif\u001b[0m \u001b[0moriginal_data\u001b[0m \u001b[0;32mis\u001b[0m \u001b[0;32mnot\u001b[0m \u001b[0mUndefined\u001b[0m\u001b[0;34m:\u001b[0m\u001b[0;34m\u001b[0m\u001b[0;34m\u001b[0m\u001b[0m\n",
      "\u001b[0;32m~/anaconda3/envs/scraping/lib/python3.8/site-packages/altair/vegalite/v4/api.py\u001b[0m in \u001b[0;36m_prepare_data\u001b[0;34m(data, context)\u001b[0m\n\u001b[1;32m     90\u001b[0m     \u001b[0;31m# consolidate inline data to top-level datasets\u001b[0m\u001b[0;34m\u001b[0m\u001b[0;34m\u001b[0m\u001b[0;34m\u001b[0m\u001b[0m\n\u001b[1;32m     91\u001b[0m     \u001b[0;32mif\u001b[0m \u001b[0mcontext\u001b[0m \u001b[0;32mis\u001b[0m \u001b[0;32mnot\u001b[0m \u001b[0;32mNone\u001b[0m \u001b[0;32mand\u001b[0m \u001b[0mdata_transformers\u001b[0m\u001b[0;34m.\u001b[0m\u001b[0mconsolidate_datasets\u001b[0m\u001b[0;34m:\u001b[0m\u001b[0;34m\u001b[0m\u001b[0;34m\u001b[0m\u001b[0m\n\u001b[0;32m---> 92\u001b[0;31m         \u001b[0mdata\u001b[0m \u001b[0;34m=\u001b[0m \u001b[0m_consolidate_data\u001b[0m\u001b[0;34m(\u001b[0m\u001b[0mdata\u001b[0m\u001b[0;34m,\u001b[0m \u001b[0mcontext\u001b[0m\u001b[0;34m)\u001b[0m\u001b[0;34m\u001b[0m\u001b[0;34m\u001b[0m\u001b[0m\n\u001b[0m\u001b[1;32m     93\u001b[0m \u001b[0;34m\u001b[0m\u001b[0m\n\u001b[1;32m     94\u001b[0m     \u001b[0;31m# if data is still not a recognized type, then return\u001b[0m\u001b[0;34m\u001b[0m\u001b[0;34m\u001b[0m\u001b[0;34m\u001b[0m\u001b[0m\n",
      "\u001b[0;32m~/anaconda3/envs/scraping/lib/python3.8/site-packages/altair/vegalite/v4/api.py\u001b[0m in \u001b[0;36m_consolidate_data\u001b[0;34m(data, context)\u001b[0m\n\u001b[1;32m     57\u001b[0m \u001b[0;34m\u001b[0m\u001b[0m\n\u001b[1;32m     58\u001b[0m     \u001b[0;32mif\u001b[0m \u001b[0mvalues\u001b[0m \u001b[0;32mis\u001b[0m \u001b[0;32mnot\u001b[0m \u001b[0mUndefined\u001b[0m\u001b[0;34m:\u001b[0m\u001b[0;34m\u001b[0m\u001b[0;34m\u001b[0m\u001b[0m\n\u001b[0;32m---> 59\u001b[0;31m         \u001b[0mname\u001b[0m \u001b[0;34m=\u001b[0m \u001b[0m_dataset_name\u001b[0m\u001b[0;34m(\u001b[0m\u001b[0mvalues\u001b[0m\u001b[0;34m)\u001b[0m\u001b[0;34m\u001b[0m\u001b[0;34m\u001b[0m\u001b[0m\n\u001b[0m\u001b[1;32m     60\u001b[0m         \u001b[0mdata\u001b[0m \u001b[0;34m=\u001b[0m \u001b[0mcore\u001b[0m\u001b[0;34m.\u001b[0m\u001b[0mNamedData\u001b[0m\u001b[0;34m(\u001b[0m\u001b[0mname\u001b[0m\u001b[0;34m=\u001b[0m\u001b[0mname\u001b[0m\u001b[0;34m,\u001b[0m \u001b[0;34m**\u001b[0m\u001b[0mkwds\u001b[0m\u001b[0;34m)\u001b[0m\u001b[0;34m\u001b[0m\u001b[0;34m\u001b[0m\u001b[0m\n\u001b[1;32m     61\u001b[0m         \u001b[0mcontext\u001b[0m\u001b[0;34m.\u001b[0m\u001b[0msetdefault\u001b[0m\u001b[0;34m(\u001b[0m\u001b[0;34m\"datasets\"\u001b[0m\u001b[0;34m,\u001b[0m \u001b[0;34m{\u001b[0m\u001b[0;34m}\u001b[0m\u001b[0;34m)\u001b[0m\u001b[0;34m[\u001b[0m\u001b[0mname\u001b[0m\u001b[0;34m]\u001b[0m \u001b[0;34m=\u001b[0m \u001b[0mvalues\u001b[0m\u001b[0;34m\u001b[0m\u001b[0;34m\u001b[0m\u001b[0m\n",
      "\u001b[0;32m~/anaconda3/envs/scraping/lib/python3.8/site-packages/altair/vegalite/v4/api.py\u001b[0m in \u001b[0;36m_dataset_name\u001b[0;34m(values)\u001b[0m\n\u001b[1;32m     33\u001b[0m     \u001b[0;32mif\u001b[0m \u001b[0misinstance\u001b[0m\u001b[0;34m(\u001b[0m\u001b[0mvalues\u001b[0m\u001b[0;34m,\u001b[0m \u001b[0mcore\u001b[0m\u001b[0;34m.\u001b[0m\u001b[0mInlineDataset\u001b[0m\u001b[0;34m)\u001b[0m\u001b[0;34m:\u001b[0m\u001b[0;34m\u001b[0m\u001b[0;34m\u001b[0m\u001b[0m\n\u001b[1;32m     34\u001b[0m         \u001b[0mvalues\u001b[0m \u001b[0;34m=\u001b[0m \u001b[0mvalues\u001b[0m\u001b[0;34m.\u001b[0m\u001b[0mto_dict\u001b[0m\u001b[0;34m(\u001b[0m\u001b[0;34m)\u001b[0m\u001b[0;34m\u001b[0m\u001b[0;34m\u001b[0m\u001b[0m\n\u001b[0;32m---> 35\u001b[0;31m     \u001b[0mvalues_json\u001b[0m \u001b[0;34m=\u001b[0m \u001b[0mjson\u001b[0m\u001b[0;34m.\u001b[0m\u001b[0mdumps\u001b[0m\u001b[0;34m(\u001b[0m\u001b[0mvalues\u001b[0m\u001b[0;34m,\u001b[0m \u001b[0msort_keys\u001b[0m\u001b[0;34m=\u001b[0m\u001b[0;32mTrue\u001b[0m\u001b[0;34m)\u001b[0m\u001b[0;34m\u001b[0m\u001b[0;34m\u001b[0m\u001b[0m\n\u001b[0m\u001b[1;32m     36\u001b[0m     \u001b[0mhsh\u001b[0m \u001b[0;34m=\u001b[0m \u001b[0mhashlib\u001b[0m\u001b[0;34m.\u001b[0m\u001b[0mmd5\u001b[0m\u001b[0;34m(\u001b[0m\u001b[0mvalues_json\u001b[0m\u001b[0;34m.\u001b[0m\u001b[0mencode\u001b[0m\u001b[0;34m(\u001b[0m\u001b[0;34m)\u001b[0m\u001b[0;34m)\u001b[0m\u001b[0;34m.\u001b[0m\u001b[0mhexdigest\u001b[0m\u001b[0;34m(\u001b[0m\u001b[0;34m)\u001b[0m\u001b[0;34m\u001b[0m\u001b[0;34m\u001b[0m\u001b[0m\n\u001b[1;32m     37\u001b[0m     \u001b[0;32mreturn\u001b[0m \u001b[0;34m\"data-\"\u001b[0m \u001b[0;34m+\u001b[0m \u001b[0mhsh\u001b[0m\u001b[0;34m\u001b[0m\u001b[0;34m\u001b[0m\u001b[0m\n",
      "\u001b[0;32m~/anaconda3/envs/scraping/lib/python3.8/json/__init__.py\u001b[0m in \u001b[0;36mdumps\u001b[0;34m(obj, skipkeys, ensure_ascii, check_circular, allow_nan, cls, indent, separators, default, sort_keys, **kw)\u001b[0m\n\u001b[1;32m    232\u001b[0m     \u001b[0;32mif\u001b[0m \u001b[0mcls\u001b[0m \u001b[0;32mis\u001b[0m \u001b[0;32mNone\u001b[0m\u001b[0;34m:\u001b[0m\u001b[0;34m\u001b[0m\u001b[0;34m\u001b[0m\u001b[0m\n\u001b[1;32m    233\u001b[0m         \u001b[0mcls\u001b[0m \u001b[0;34m=\u001b[0m \u001b[0mJSONEncoder\u001b[0m\u001b[0;34m\u001b[0m\u001b[0;34m\u001b[0m\u001b[0m\n\u001b[0;32m--> 234\u001b[0;31m     return cls(\n\u001b[0m\u001b[1;32m    235\u001b[0m         \u001b[0mskipkeys\u001b[0m\u001b[0;34m=\u001b[0m\u001b[0mskipkeys\u001b[0m\u001b[0;34m,\u001b[0m \u001b[0mensure_ascii\u001b[0m\u001b[0;34m=\u001b[0m\u001b[0mensure_ascii\u001b[0m\u001b[0;34m,\u001b[0m\u001b[0;34m\u001b[0m\u001b[0;34m\u001b[0m\u001b[0m\n\u001b[1;32m    236\u001b[0m         \u001b[0mcheck_circular\u001b[0m\u001b[0;34m=\u001b[0m\u001b[0mcheck_circular\u001b[0m\u001b[0;34m,\u001b[0m \u001b[0mallow_nan\u001b[0m\u001b[0;34m=\u001b[0m\u001b[0mallow_nan\u001b[0m\u001b[0;34m,\u001b[0m \u001b[0mindent\u001b[0m\u001b[0;34m=\u001b[0m\u001b[0mindent\u001b[0m\u001b[0;34m,\u001b[0m\u001b[0;34m\u001b[0m\u001b[0;34m\u001b[0m\u001b[0m\n",
      "\u001b[0;32m~/anaconda3/envs/scraping/lib/python3.8/json/encoder.py\u001b[0m in \u001b[0;36mencode\u001b[0;34m(self, o)\u001b[0m\n\u001b[1;32m    197\u001b[0m         \u001b[0;31m# exceptions aren't as detailed.  The list call should be roughly\u001b[0m\u001b[0;34m\u001b[0m\u001b[0;34m\u001b[0m\u001b[0;34m\u001b[0m\u001b[0m\n\u001b[1;32m    198\u001b[0m         \u001b[0;31m# equivalent to the PySequence_Fast that ''.join() would do.\u001b[0m\u001b[0;34m\u001b[0m\u001b[0;34m\u001b[0m\u001b[0;34m\u001b[0m\u001b[0m\n\u001b[0;32m--> 199\u001b[0;31m         \u001b[0mchunks\u001b[0m \u001b[0;34m=\u001b[0m \u001b[0mself\u001b[0m\u001b[0;34m.\u001b[0m\u001b[0miterencode\u001b[0m\u001b[0;34m(\u001b[0m\u001b[0mo\u001b[0m\u001b[0;34m,\u001b[0m \u001b[0m_one_shot\u001b[0m\u001b[0;34m=\u001b[0m\u001b[0;32mTrue\u001b[0m\u001b[0;34m)\u001b[0m\u001b[0;34m\u001b[0m\u001b[0;34m\u001b[0m\u001b[0m\n\u001b[0m\u001b[1;32m    200\u001b[0m         \u001b[0;32mif\u001b[0m \u001b[0;32mnot\u001b[0m \u001b[0misinstance\u001b[0m\u001b[0;34m(\u001b[0m\u001b[0mchunks\u001b[0m\u001b[0;34m,\u001b[0m \u001b[0;34m(\u001b[0m\u001b[0mlist\u001b[0m\u001b[0;34m,\u001b[0m \u001b[0mtuple\u001b[0m\u001b[0;34m)\u001b[0m\u001b[0;34m)\u001b[0m\u001b[0;34m:\u001b[0m\u001b[0;34m\u001b[0m\u001b[0;34m\u001b[0m\u001b[0m\n\u001b[1;32m    201\u001b[0m             \u001b[0mchunks\u001b[0m \u001b[0;34m=\u001b[0m \u001b[0mlist\u001b[0m\u001b[0;34m(\u001b[0m\u001b[0mchunks\u001b[0m\u001b[0;34m)\u001b[0m\u001b[0;34m\u001b[0m\u001b[0;34m\u001b[0m\u001b[0m\n",
      "\u001b[0;32m~/anaconda3/envs/scraping/lib/python3.8/json/encoder.py\u001b[0m in \u001b[0;36miterencode\u001b[0;34m(self, o, _one_shot)\u001b[0m\n\u001b[1;32m    255\u001b[0m                 \u001b[0mself\u001b[0m\u001b[0;34m.\u001b[0m\u001b[0mkey_separator\u001b[0m\u001b[0;34m,\u001b[0m \u001b[0mself\u001b[0m\u001b[0;34m.\u001b[0m\u001b[0mitem_separator\u001b[0m\u001b[0;34m,\u001b[0m \u001b[0mself\u001b[0m\u001b[0;34m.\u001b[0m\u001b[0msort_keys\u001b[0m\u001b[0;34m,\u001b[0m\u001b[0;34m\u001b[0m\u001b[0;34m\u001b[0m\u001b[0m\n\u001b[1;32m    256\u001b[0m                 self.skipkeys, _one_shot)\n\u001b[0;32m--> 257\u001b[0;31m         \u001b[0;32mreturn\u001b[0m \u001b[0m_iterencode\u001b[0m\u001b[0;34m(\u001b[0m\u001b[0mo\u001b[0m\u001b[0;34m,\u001b[0m \u001b[0;36m0\u001b[0m\u001b[0;34m)\u001b[0m\u001b[0;34m\u001b[0m\u001b[0;34m\u001b[0m\u001b[0m\n\u001b[0m\u001b[1;32m    258\u001b[0m \u001b[0;34m\u001b[0m\u001b[0m\n\u001b[1;32m    259\u001b[0m def _make_iterencode(markers, _default, _encoder, _indent, _floatstr,\n",
      "\u001b[0;32m~/anaconda3/envs/scraping/lib/python3.8/json/encoder.py\u001b[0m in \u001b[0;36mdefault\u001b[0;34m(self, o)\u001b[0m\n\u001b[1;32m    177\u001b[0m \u001b[0;34m\u001b[0m\u001b[0m\n\u001b[1;32m    178\u001b[0m         \"\"\"\n\u001b[0;32m--> 179\u001b[0;31m         raise TypeError(f'Object of type {o.__class__.__name__} '\n\u001b[0m\u001b[1;32m    180\u001b[0m                         f'is not JSON serializable')\n\u001b[1;32m    181\u001b[0m \u001b[0;34m\u001b[0m\u001b[0m\n",
      "\u001b[0;31mTypeError\u001b[0m: Object of type datetime is not JSON serializable"
     ]
    },
    {
     "data": {
      "text/plain": [
       "alt.Chart(...)"
      ]
     },
     "execution_count": 123,
     "metadata": {},
     "output_type": "execute_result"
    }
   ],
   "source": [
    "alt.Chart(profile).mark_line().encode(\n",
    "    x='folowers',\n",
    ")"
   ]
  },
  {
   "cell_type": "code",
   "execution_count": null,
   "metadata": {},
   "outputs": [],
   "source": []
  }
 ],
 "metadata": {
  "kernelspec": {
   "display_name": "Python 3",
   "language": "python",
   "name": "python3"
  },
  "language_info": {
   "codemirror_mode": {
    "name": "ipython",
    "version": 3
   },
   "file_extension": ".py",
   "mimetype": "text/x-python",
   "name": "python",
   "nbconvert_exporter": "python",
   "pygments_lexer": "ipython3",
   "version": "3.8.3"
  },
  "latex_envs": {
   "LaTeX_envs_menu_present": true,
   "autoclose": false,
   "autocomplete": true,
   "bibliofile": "biblio.bib",
   "cite_by": "apalike",
   "current_citInitial": 1,
   "eqLabelWithNumbers": true,
   "eqNumInitial": 1,
   "hotkeys": {
    "equation": "Ctrl-E",
    "itemize": "Ctrl-I"
   },
   "labels_anchors": false,
   "latex_user_defs": false,
   "report_style_numbering": false,
   "user_envs_cfg": false
  },
  "toc": {
   "base_numbering": 1,
   "nav_menu": {},
   "number_sections": true,
   "sideBar": true,
   "skip_h1_title": false,
   "title_cell": "Table of Contents",
   "title_sidebar": "Contents",
   "toc_cell": false,
   "toc_position": {},
   "toc_section_display": true,
   "toc_window_display": false
  }
 },
 "nbformat": 4,
 "nbformat_minor": 4
}
