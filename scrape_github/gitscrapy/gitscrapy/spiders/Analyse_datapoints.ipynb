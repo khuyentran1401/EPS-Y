{
 "cells": [
  {
   "cell_type": "markdown",
   "metadata": {},
   "source": [
    "# Gather Data"
   ]
  },
  {
   "cell_type": "markdown",
   "metadata": {},
   "source": [
    "## Profile of Contributors"
   ]
  },
  {
   "cell_type": "code",
   "execution_count": 1,
   "metadata": {
    "ExecuteTime": {
     "end_time": "2020-06-25T20:44:07.397559Z",
     "start_time": "2020-06-25T20:44:06.867823Z"
    }
   },
   "outputs": [
    {
     "name": "stdout",
     "output_type": "stream",
     "text": [
      "/home/khuyentran/EPS-Y/scrape_github/gitscrapy/gitscrapy/spiders\n"
     ]
    }
   ],
   "source": [
    "import pandas as pd\n",
    "import numpy as np\n",
    "import datapane as dp\n",
    "from github import Github\n",
    "import pickle \n",
    "import re \n",
    "import os \n",
    "print(os.getcwd())"
   ]
  },
  {
   "cell_type": "code",
   "execution_count": 4,
   "metadata": {
    "ExecuteTime": {
     "end_time": "2020-06-25T20:42:27.696512Z",
     "start_time": "2020-06-25T20:42:27.615539Z"
    }
   },
   "outputs": [
    {
     "ename": "ModuleNotFoundError",
     "evalue": "No module named 'extract_datapoint'",
     "output_type": "error",
     "traceback": [
      "\u001b[0;31m---------------------------------------------------------------------------\u001b[0m",
      "\u001b[0;31mModuleNotFoundError\u001b[0m                       Traceback (most recent call last)",
      "\u001b[0;32m<ipython-input-4-045426f952be>\u001b[0m in \u001b[0;36m<module>\u001b[0;34m\u001b[0m\n\u001b[0;32m----> 1\u001b[0;31m \u001b[0;32mfrom\u001b[0m \u001b[0mextract_datapoint\u001b[0m \u001b[0;32mimport\u001b[0m \u001b[0mget_repo\u001b[0m\u001b[0;34m,\u001b[0m \u001b[0mextract_profile\u001b[0m\u001b[0;34m\u001b[0m\u001b[0;34m\u001b[0m\u001b[0m\n\u001b[0m",
      "\u001b[0;31mModuleNotFoundError\u001b[0m: No module named 'extract_datapoint'"
     ]
    }
   ],
   "source": [
    "from extract_datapoint import get_repo, extract_profile"
   ]
  },
  {
   "cell_type": "code",
   "execution_count": 3,
   "metadata": {
    "ExecuteTime": {
     "end_time": "2020-06-25T19:03:59.092170Z",
     "start_time": "2020-06-25T19:03:58.699678Z"
    }
   },
   "outputs": [],
   "source": [
    "token = dp.Variable.get(name='github_token')\n",
    "\n",
    "token = token.value\n",
    "\n",
    "g = Github(token)"
   ]
  },
  {
   "cell_type": "code",
   "execution_count": 4,
   "metadata": {
    "ExecuteTime": {
     "end_time": "2020-06-25T18:56:00.037227Z",
     "start_time": "2020-06-25T18:55:59.877932Z"
    }
   },
   "outputs": [
    {
     "data": {
      "text/plain": [
       "<bound method NamedUser.get_repos of NamedUser(login=\"dargilco\")>"
      ]
     },
     "execution_count": 4,
     "metadata": {},
     "output_type": "execute_result"
    }
   ],
   "source": [
    "g.get_user('dargilco').get_repos"
   ]
  },
  {
   "cell_type": "code",
   "execution_count": 4,
   "metadata": {
    "ExecuteTime": {
     "end_time": "2020-06-25T19:04:15.822509Z",
     "start_time": "2020-06-25T19:04:14.434268Z"
    }
   },
   "outputs": [],
   "source": [
    "from bs4 import BeautifulSoup\n",
    "import urllib.request\n",
    "source = urllib.request.urlopen('https://github.com/Diastro').read()\n"
   ]
  },
  {
   "cell_type": "code",
   "execution_count": 5,
   "metadata": {
    "ExecuteTime": {
     "end_time": "2020-06-25T19:04:17.373701Z",
     "start_time": "2020-06-25T19:04:17.325194Z"
    }
   },
   "outputs": [],
   "source": [
    "soup = BeautifulSoup(source,'lxml')\n"
   ]
  },
  {
   "cell_type": "code",
   "execution_count": 6,
   "metadata": {
    "ExecuteTime": {
     "end_time": "2020-06-25T19:04:18.147254Z",
     "start_time": "2020-06-25T19:04:18.141841Z"
    }
   },
   "outputs": [],
   "source": [
    "contribution = soup.find_all('h2', class_= 'f4 text-normal mb-2')[0].text"
   ]
  },
  {
   "cell_type": "code",
   "execution_count": 7,
   "metadata": {
    "ExecuteTime": {
     "end_time": "2020-06-25T19:04:19.480732Z",
     "start_time": "2020-06-25T19:04:19.474859Z"
    }
   },
   "outputs": [
    {
     "data": {
      "text/plain": [
       "'\\n      12 contributions\\n        in the last year\\n    '"
      ]
     },
     "execution_count": 7,
     "metadata": {},
     "output_type": "execute_result"
    }
   ],
   "source": [
    "contribution"
   ]
  },
  {
   "cell_type": "code",
   "execution_count": 9,
   "metadata": {
    "ExecuteTime": {
     "end_time": "2020-06-25T18:56:09.543486Z",
     "start_time": "2020-06-25T18:56:09.541037Z"
    }
   },
   "outputs": [],
   "source": [
    "import re "
   ]
  },
  {
   "cell_type": "code",
   "execution_count": 8,
   "metadata": {
    "ExecuteTime": {
     "end_time": "2020-06-25T19:05:23.192540Z",
     "start_time": "2020-06-25T19:05:23.183157Z"
    }
   },
   "outputs": [
    {
     "data": {
      "text/plain": [
       "12"
      ]
     },
     "execution_count": 8,
     "metadata": {},
     "output_type": "execute_result"
    }
   ],
   "source": [
    "int(re.findall('\\d+', contribution)[0])"
   ]
  },
  {
   "cell_type": "code",
   "execution_count": 1,
   "metadata": {
    "ExecuteTime": {
     "end_time": "2020-06-25T20:42:14.351179Z",
     "start_time": "2020-06-25T20:42:14.340378Z"
    }
   },
   "outputs": [],
   "source": [
    "def extract_contributions(url):\n",
    "    \n",
    "    headers = {'User-Agent': 'Mozilla/5.0 (X11; Linux x86_64) '\n",
    "                      'AppleWebKit/537.11 (KHTML, like Gecko) '\n",
    "                      'Chrome/23.0.1271.64 Safari/537.11',\n",
    "        'Accept': 'text/html,application/xhtml+xml,application/xml;q=0.9,*/*;q=0.8',\n",
    "        'Accept-Charset': 'ISO-8859-1,utf-8;q=0.7,*;q=0.3',\n",
    "        'Accept-Encoding': 'none',\n",
    "        'Accept-Language': 'en-US,en;q=0.8',\n",
    "        'Connection': 'keep-alive'}\n",
    "    source = urllib.request.Request(url, headers=headers)\n",
    "    #source = urllib.request.urlopen(url).read()\n",
    "    soup = BeautifulSoup(source,'lxml')\n",
    "    \n",
    "    contribution = soup.find_all('h2', class_= 'f4 text-normal mb-2')[0].text\n",
    "    \n",
    "    return contribution, int(re.findall('\\d+', contribution)[0])"
   ]
  },
  {
   "cell_type": "code",
   "execution_count": 2,
   "metadata": {
    "ExecuteTime": {
     "end_time": "2020-06-25T20:42:23.901106Z",
     "start_time": "2020-06-25T20:42:23.855216Z"
    }
   },
   "outputs": [
    {
     "ename": "NameError",
     "evalue": "name 'pickle' is not defined",
     "output_type": "error",
     "traceback": [
      "\u001b[0;31m---------------------------------------------------------------------------\u001b[0m",
      "\u001b[0;31mNameError\u001b[0m                                 Traceback (most recent call last)",
      "\u001b[0;32m<ipython-input-2-94c001658665>\u001b[0m in \u001b[0;36m<module>\u001b[0;34m\u001b[0m\n\u001b[0;32m----> 1\u001b[0;31m \u001b[0mprofile\u001b[0m \u001b[0;34m=\u001b[0m \u001b[0mpickle\u001b[0m\u001b[0;34m.\u001b[0m\u001b[0mload\u001b[0m\u001b[0;34m(\u001b[0m\u001b[0mopen\u001b[0m\u001b[0;34m(\u001b[0m\u001b[0;34m'profile_df'\u001b[0m\u001b[0;34m,\u001b[0m \u001b[0;34m'rb'\u001b[0m\u001b[0;34m)\u001b[0m\u001b[0;34m)\u001b[0m\u001b[0;34m\u001b[0m\u001b[0;34m\u001b[0m\u001b[0m\n\u001b[0m",
      "\u001b[0;31mNameError\u001b[0m: name 'pickle' is not defined"
     ]
    }
   ],
   "source": [
    "profile = pickle.load(open('profile_df', 'rb'))"
   ]
  },
  {
   "cell_type": "code",
   "execution_count": 12,
   "metadata": {
    "ExecuteTime": {
     "end_time": "2020-06-25T19:06:54.302550Z",
     "start_time": "2020-06-25T19:06:54.296242Z"
    }
   },
   "outputs": [],
   "source": [
    "urls = list(profile.html_url)"
   ]
  },
  {
   "cell_type": "code",
   "execution_count": null,
   "metadata": {},
   "outputs": [],
   "source": []
  },
  {
   "cell_type": "code",
   "execution_count": null,
   "metadata": {
    "ExecuteTime": {
     "start_time": "2020-06-25T19:06:54.919Z"
    }
   },
   "outputs": [
    {
     "name": "stdout",
     "output_type": "stream",
     "text": [
      "\n",
      "      2,431 contributions\n",
      "        in the last year\n",
      "    \n",
      "\n",
      "      0 contributions\n",
      "        in the last year\n",
      "    \n",
      "https://github.com/udacity\n",
      "\n",
      "      38 contributions\n",
      "        in the last year\n",
      "    \n",
      "\n",
      "      748 contributions\n",
      "        in the last year\n",
      "    \n",
      "\n",
      "      2 contributions\n",
      "        in the last year\n",
      "    \n",
      "\n",
      "      77 contributions\n",
      "        in the last year\n",
      "    \n",
      "\n",
      "      130 contributions\n",
      "        in the last year\n",
      "    \n",
      "\n",
      "      6 contributions\n",
      "        in the last year\n",
      "    \n",
      "\n",
      "      1,224 contributions\n",
      "        in the last year\n",
      "    \n",
      "https://github.com/allmachinelearning\n",
      "\n",
      "      0 contributions\n",
      "        in the last year\n",
      "    \n",
      "https://github.com/Azure\n",
      "\n",
      "      418 contributions\n",
      "        in the last year\n",
      "    \n",
      "\n",
      "      118 contributions\n",
      "        in the last year\n",
      "    \n",
      "\n",
      "      128 contributions\n",
      "        in the last year\n",
      "    \n",
      "\n",
      "      492 contributions\n",
      "        in the last year\n",
      "    \n",
      "https://github.com/scikit-learn\n",
      "\n",
      "      212 contributions\n",
      "        in the last year\n",
      "    \n",
      "\n",
      "      273 contributions\n",
      "        in the last year\n",
      "    \n",
      "https://github.com/tensorflow\n",
      "\n",
      "      536 contributions\n",
      "        in the last year\n",
      "    \n",
      "https://github.com/deeplearning-ai\n",
      "\n",
      "      195 contributions\n",
      "        in the last year\n",
      "    \n",
      "https://github.com/machinelearningmindset\n",
      "\n",
      "      0 contributions\n",
      "        in the last year\n",
      "    \n",
      "\n",
      "      24 contributions\n",
      "        in the last year\n",
      "    \n",
      "\n",
      "      29 contributions\n",
      "        in the last year\n",
      "    \n",
      "\n",
      "      262 contributions\n",
      "        in the last year\n",
      "    \n",
      "\n",
      "      152 contributions\n",
      "        in the last year\n",
      "    \n",
      "https://github.com/jobbole\n",
      "\n",
      "      150 contributions\n",
      "        in the last year\n",
      "    \n",
      "\n",
      "      1,435 contributions\n",
      "        in the last year\n",
      "    \n",
      "\n",
      "      62 contributions\n",
      "        in the last year\n",
      "    \n",
      "\n",
      "      1 contribution\n",
      "        in the last year\n",
      "    \n",
      "\n",
      "      748 contributions\n",
      "        in the last year\n",
      "    \n",
      "\n",
      "      7 contributions\n",
      "        in the last year\n",
      "    \n",
      "\n",
      "      1,765 contributions\n",
      "        in the last year\n",
      "    \n",
      "\n",
      "      934 contributions\n",
      "        in the last year\n",
      "    \n",
      "\n",
      "      281 contributions\n",
      "        in the last year\n",
      "    \n",
      "https://github.com/Unity-Technologies\n",
      "\n",
      "      13 contributions\n",
      "        in the last year\n",
      "    \n",
      "\n",
      "      6 contributions\n",
      "        in the last year\n",
      "    \n",
      "\n",
      "      1,007 contributions\n",
      "        in the last year\n",
      "    \n",
      "\n",
      "      41 contributions\n",
      "        in the last year\n",
      "    \n",
      "https://github.com/EthicalML\n",
      "\n",
      "      148 contributions\n",
      "        in the last year\n",
      "    \n",
      "\n",
      "      1,959 contributions\n",
      "        in the last year\n",
      "    \n",
      "\n",
      "      108 contributions\n",
      "        in the last year\n",
      "    \n",
      "\n",
      "      0 contributions\n",
      "        in the last year\n",
      "    \n",
      "\n",
      "      478 contributions\n",
      "        in the last year\n",
      "    \n",
      "https://github.com/trainindata\n",
      "\n",
      "      1 contribution\n",
      "        in the last year\n",
      "    \n",
      "https://github.com/dotnet\n",
      "\n",
      "      130 contributions\n",
      "        in the last year\n",
      "    \n",
      "\n",
      "      982 contributions\n",
      "        in the last year\n",
      "    \n",
      "https://github.com/kubeflow\n",
      "\n",
      "      457 contributions\n",
      "        in the last year\n",
      "    \n",
      "\n",
      "      635 contributions\n",
      "        in the last year\n",
      "    \n",
      "\n",
      "      293 contributions\n",
      "        in the last year\n",
      "    \n",
      "\n",
      "      1 contribution\n",
      "        in the last year\n",
      "    \n",
      "\n",
      "      11 contributions\n",
      "        in the last year\n",
      "    \n",
      "\n",
      "      0 contributions\n",
      "        in the last year\n",
      "    \n",
      "\n",
      "      48 contributions\n",
      "        in the last year\n",
      "    \n",
      "\n",
      "      4 contributions\n",
      "        in the last year\n",
      "    \n",
      "\n",
      "      0 contributions\n",
      "        in the last year\n",
      "    \n",
      "https://github.com/Azure-Samples\n",
      "https://github.com/learnml\n",
      "\n",
      "      147 contributions\n",
      "        in the last year\n",
      "    \n",
      "https://github.com/src-d\n",
      "\n",
      "      19 contributions\n",
      "        in the last year\n",
      "    \n",
      "\n",
      "      329 contributions\n",
      "        in the last year\n",
      "    \n",
      "\n",
      "      16 contributions\n",
      "        in the last year\n",
      "    \n",
      "https://github.com/awslabs\n",
      "\n",
      "      60 contributions\n",
      "        in the last year\n",
      "    \n",
      "\n",
      "      562 contributions\n",
      "        in the last year\n",
      "    \n",
      "\n",
      "      51 contributions\n",
      "        in the last year\n",
      "    \n",
      "\n",
      "      11 contributions\n",
      "        in the last year\n",
      "    \n",
      "\n",
      "      119 contributions\n",
      "        in the last year\n",
      "    \n",
      "\n",
      "      55 contributions\n",
      "        in the last year\n",
      "    \n",
      "\n",
      "      713 contributions\n",
      "        in the last year\n",
      "    \n",
      "\n",
      "      35 contributions\n",
      "        in the last year\n",
      "    \n",
      "\n",
      "      764 contributions\n",
      "        in the last year\n",
      "    \n",
      "\n",
      "      0 contributions\n",
      "        in the last year\n",
      "    \n",
      "\n",
      "      9 contributions\n",
      "        in the last year\n",
      "    \n",
      "https://github.com/aws-samples\n",
      "https://github.com/PAIR-code\n",
      "https://github.com/EpistasisLab\n",
      "https://github.com/cortexlabs\n",
      "\n",
      "      1,538 contributions\n",
      "        in the last year\n",
      "    \n",
      "\n",
      "      32 contributions\n",
      "        in the last year\n",
      "    \n",
      "\n",
      "      2,411 contributions\n",
      "        in the last year\n",
      "    \n",
      "\n",
      "      6 contributions\n",
      "        in the last year\n",
      "    \n",
      "\n",
      "      1,828 contributions\n",
      "        in the last year\n",
      "    \n",
      "\n",
      "      235 contributions\n",
      "        in the last year\n",
      "    \n",
      "\n",
      "      243 contributions\n",
      "        in the last year\n",
      "    \n",
      "\n",
      "      348 contributions\n",
      "        in the last year\n",
      "    \n",
      "\n",
      "      101 contributions\n",
      "        in the last year\n",
      "    \n",
      "\n",
      "      0 contributions\n",
      "        in the last year\n",
      "    \n",
      "\n",
      "      63 contributions\n",
      "        in the last year\n",
      "    \n",
      "\n",
      "      475 contributions\n",
      "        in the last year\n",
      "    \n",
      "\n",
      "      5 contributions\n",
      "        in the last year\n",
      "    \n",
      "\n",
      "      268 contributions\n",
      "        in the last year\n",
      "    \n",
      "\n",
      "      45 contributions\n",
      "        in the last year\n",
      "    \n",
      "\n",
      "      96 contributions\n",
      "        in the last year\n",
      "    \n",
      "\n",
      "      593 contributions\n",
      "        in the last year\n",
      "    \n",
      "\n",
      "      4 contributions\n",
      "        in the last year\n",
      "    \n",
      "\n",
      "      1,209 contributions\n",
      "        in the last year\n",
      "    \n",
      "\n",
      "      10 contributions\n",
      "        in the last year\n",
      "    \n",
      "\n",
      "      844 contributions\n",
      "        in the last year\n",
      "    \n",
      "https://github.com/alexobednikov\n",
      "https://github.com/adamjgray\n",
      "https://github.com/wzell\n",
      "https://github.com/rogerzanoni\n",
      "https://github.com/TwFlem\n",
      "https://github.com/ScarboroughCoral\n",
      "https://github.com/csinva\n",
      "https://github.com/IEvangelist\n",
      "https://github.com/ketanhwr\n",
      "https://github.com/marnovo\n",
      "https://github.com/arimbr\n",
      "https://github.com/haossr\n",
      "https://github.com/NelsonDaniel\n",
      "https://github.com/gunan\n",
      "https://github.com/jaintj95\n",
      "https://github.com/pan-long\n",
      "https://github.com/baogianghoangvu\n",
      "https://github.com/polymeris\n",
      "https://github.com/alimon808\n",
      "https://github.com/chrisgundling\n",
      "\n",
      "      0 contributions\n",
      "        in the last year\n",
      "    \n",
      "\n",
      "      1,618 contributions\n",
      "        in the last year\n",
      "    \n",
      "\n",
      "      0 contributions\n",
      "        in the last year\n",
      "    \n",
      "\n",
      "      553 contributions\n",
      "        in the last year\n",
      "    \n",
      "\n",
      "      2,622 contributions\n",
      "        in the last year\n",
      "    \n",
      "\n",
      "      419 contributions\n",
      "        in the last year\n",
      "    \n",
      "\n",
      "      12 contributions\n",
      "        in the last year\n",
      "    \n",
      "\n",
      "      0 contributions\n",
      "        in the last year\n",
      "    \n",
      "\n",
      "      820 contributions\n",
      "        in the last year\n",
      "    \n",
      "\n",
      "      1,276 contributions\n",
      "        in the last year\n",
      "    \n",
      "\n",
      "      220 contributions\n",
      "        in the last year\n",
      "    \n",
      "\n",
      "      16 contributions\n",
      "        in the last year\n",
      "    \n",
      "\n",
      "      619 contributions\n",
      "        in the last year\n",
      "    \n",
      "\n",
      "      290 contributions\n",
      "        in the last year\n",
      "    \n",
      "\n",
      "      0 contributions\n",
      "        in the last year\n",
      "    \n",
      "https://github.com/jonathanslenders\n",
      "\n",
      "      1,850 contributions\n",
      "        in the last year\n",
      "    \n",
      "\n",
      "      572 contributions\n",
      "        in the last year\n",
      "    \n",
      "\n",
      "      3 contributions\n",
      "        in the last year\n",
      "    \n",
      "\n",
      "      986 contributions\n",
      "        in the last year\n",
      "    \n"
     ]
    }
   ],
   "source": [
    "contributions = []\n",
    "for url in urls:\n",
    "    try:\n",
    "        test, contribution = extract_contributions(url)\n",
    "        print(test)\n",
    "        contributions.append(contribution)\n",
    "    except:\n",
    "        print(url)\n",
    "        \n",
    "    "
   ]
  },
  {
   "cell_type": "code",
   "execution_count": null,
   "metadata": {},
   "outputs": [],
   "source": []
  }
 ],
 "metadata": {
  "kernelspec": {
   "display_name": "Python 3",
   "language": "python",
   "name": "python3"
  },
  "language_info": {
   "codemirror_mode": {
    "name": "ipython",
    "version": 3
   },
   "file_extension": ".py",
   "mimetype": "text/x-python",
   "name": "python",
   "nbconvert_exporter": "python",
   "pygments_lexer": "ipython3",
   "version": "3.8.3"
  },
  "latex_envs": {
   "LaTeX_envs_menu_present": true,
   "autoclose": false,
   "autocomplete": true,
   "bibliofile": "biblio.bib",
   "cite_by": "apalike",
   "current_citInitial": 1,
   "eqLabelWithNumbers": true,
   "eqNumInitial": 1,
   "hotkeys": {
    "equation": "Ctrl-E",
    "itemize": "Ctrl-I"
   },
   "labels_anchors": false,
   "latex_user_defs": false,
   "report_style_numbering": false,
   "user_envs_cfg": false
  },
  "toc": {
   "base_numbering": 1,
   "nav_menu": {},
   "number_sections": true,
   "sideBar": true,
   "skip_h1_title": false,
   "title_cell": "Table of Contents",
   "title_sidebar": "Contents",
   "toc_cell": false,
   "toc_position": {},
   "toc_section_display": true,
   "toc_window_display": false
  }
 },
 "nbformat": 4,
 "nbformat_minor": 4
}
