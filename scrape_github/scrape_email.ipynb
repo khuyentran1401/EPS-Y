{
 "cells": [
  {
   "cell_type": "markdown",
   "metadata": {},
   "source": [
    "# Extract with BeautifulSoup"
   ]
  },
  {
   "cell_type": "code",
   "execution_count": 119,
   "metadata": {},
   "outputs": [
    {
     "name": "stdout",
     "output_type": "stream",
     "text": [
      "https://github.com/ZuzooVn/machine-learning-for-software-engineers/commits/master\n"
     ]
    }
   ],
   "source": [
    "# Getting Started\n",
    "\n",
    "import requests\n",
    "import urllib.request\n",
    "import time\n",
    "from bs4 import BeautifulSoup\n",
    "import numpy as np\n",
    "import pandas as pd\n",
    "from urllib.request import urlopen\n",
    "import re\n",
    "\n",
    "url = 'https://github.com/ZuzooVn/'\n",
    "\n",
    "html = urlopen(url)\n",
    "\n",
    "soup = BeautifulSoup(html, 'html.parser')\n",
    "\n",
    "soup.prettify()\n",
    "\n",
    "\n",
    "# Go to the repo\n",
    "\n",
    "source_repo = soup.find('a', class_=\"UnderlineNav-item mr-0 mr-md-1 mr-lg-3\")\n",
    "\n",
    "source_repo\n",
    "\n",
    "name = source_repo['href']\n",
    "\n",
    "name\n",
    "\n",
    "# Go to the repo tab\n",
    "repo_link = 'https://github.com' + name\n",
    "\n",
    "repo_link\n",
    "\n",
    "# Go to type tab\n",
    "\n",
    "html = urlopen(repo_link + '&q=&type=source&language=')\n",
    "\n",
    "soup = BeautifulSoup(html, 'html.parser')\n",
    "\n",
    "first_repo = soup.find_all('h3')[3]\n",
    "first_repo.a['href']\n",
    "\n",
    "repo_link1 = 'https://github.com' + first_repo.a['href']\n",
    "repo_link1\n",
    "\n",
    "commit_link = repo_link1 + '/commits/master'\n",
    "print(commit_link)\n",
    "\n"
   ]
  },
  {
   "cell_type": "code",
   "execution_count": 120,
   "metadata": {},
   "outputs": [],
   "source": [
    "html = urlopen(commit_link)\n",
    "soup = BeautifulSoup(html, 'html.parser')"
   ]
  },
  {
   "cell_type": "code",
   "execution_count": 122,
   "metadata": {},
   "outputs": [
    {
     "data": {
      "text/plain": [
       "<div class=\"f6 text-gray min-width-0\">\n",
       "<a aria-label=\"View all commits by qualityjacks\" class=\"commit-author tooltipped tooltipped-s user-mention\" href=\"/ZuzooVn/machine-learning-for-software-engineers/commits?author=qualityjacks\">qualityjacks</a>\n",
       "\n",
       "\n",
       "  committed\n",
       "  <relative-time class=\"no-wrap\" datetime=\"2018-04-14T09:59:38Z\">Apr 14, 2018</relative-time>\n",
       "</div>"
      ]
     },
     "execution_count": 122,
     "metadata": {},
     "output_type": "execute_result"
    }
   ],
   "source": [
    "commits = soup.find_all('div', class_=\"flex-auto min-width-0\")\n",
    "commits[0].div.find_all('div')[-1].text.split('\\n')"
   ]
  },
  {
   "cell_type": "code",
   "execution_count": 116,
   "metadata": {},
   "outputs": [
    {
     "name": "stdout",
     "output_type": "stream",
     "text": [
      "https://github.com/ZuzooVn/machine-learning-for-software-engineers/commit/3561e7a1f8d7fcd16009dbdc0e68b27488bce575.patch\n"
     ]
    }
   ],
   "source": [
    "author_commit = ''\n",
    "commits = soup.find_all('div', class_=\"flex-auto min-width-0\")\n",
    "for commit in commits:\n",
    "    if commit.div.find_all('div')[-1].text.split('\\n')[1] == 'ZuzooVn':\n",
    "        author_commit = commit.p.a['href']\n",
    "        break\n",
    "        \n",
    "author_commit = 'https://github.com'  + author_commit + '.patch'\n",
    "print(author_commit)\n",
    "\n",
    "#commits.find_all('div')[-1].text.split('\\n')[1]"
   ]
  },
  {
   "cell_type": "code",
   "execution_count": null,
   "metadata": {},
   "outputs": [],
   "source": [
    "#commits = soup.find_all('a', class_='commit-author tooltipped tooltipped-s user-mention')\n",
    "#commits"
   ]
  },
  {
   "cell_type": "code",
   "execution_count": 83,
   "metadata": {},
   "outputs": [
    {
     "ename": "TypeError",
     "evalue": "'NoneType' object is not subscriptable",
     "output_type": "error",
     "traceback": [
      "\u001b[0;31m---------------------------------------------------------------------------\u001b[0m",
      "\u001b[0;31mTypeError\u001b[0m                                 Traceback (most recent call last)",
      "\u001b[0;32m<ipython-input-83-4daa6fa63b71>\u001b[0m in \u001b[0;36m<module>\u001b[0;34m\u001b[0m\n\u001b[1;32m      1\u001b[0m \u001b[0mhtml\u001b[0m \u001b[0;34m=\u001b[0m \u001b[0murlopen\u001b[0m\u001b[0;34m(\u001b[0m\u001b[0mauthor_commit\u001b[0m\u001b[0;34m)\u001b[0m\u001b[0;34m\u001b[0m\u001b[0;34m\u001b[0m\u001b[0m\n\u001b[1;32m      2\u001b[0m \u001b[0msoup\u001b[0m \u001b[0;34m=\u001b[0m \u001b[0mBeautifulSoup\u001b[0m\u001b[0;34m(\u001b[0m\u001b[0mhtml\u001b[0m\u001b[0;34m,\u001b[0m \u001b[0;34m'html.parser'\u001b[0m\u001b[0;34m)\u001b[0m\u001b[0;34m\u001b[0m\u001b[0;34m\u001b[0m\u001b[0m\n\u001b[0;32m----> 3\u001b[0;31m \u001b[0mauthor_commit_link\u001b[0m \u001b[0;34m=\u001b[0m \u001b[0msoup\u001b[0m\u001b[0;34m.\u001b[0m\u001b[0mfind\u001b[0m\u001b[0;34m(\u001b[0m\u001b[0;34m'a'\u001b[0m\u001b[0;34m,\u001b[0m \u001b[0mclass_\u001b[0m\u001b[0;34m=\u001b[0m\u001b[0;34m\"message js-navigation-open\"\u001b[0m\u001b[0;34m)\u001b[0m\u001b[0;34m[\u001b[0m\u001b[0;34m'href'\u001b[0m\u001b[0;34m]\u001b[0m\u001b[0;34m\u001b[0m\u001b[0;34m\u001b[0m\u001b[0m\n\u001b[0m\u001b[1;32m      4\u001b[0m \u001b[0mauthor_commit_link\u001b[0m \u001b[0;34m=\u001b[0m \u001b[0;34m'https://github.com'\u001b[0m \u001b[0;34m+\u001b[0m \u001b[0mauthor_commit_link\u001b[0m \u001b[0;34m+\u001b[0m\u001b[0;34m'.patch'\u001b[0m\u001b[0;34m\u001b[0m\u001b[0;34m\u001b[0m\u001b[0m\n",
      "\u001b[0;31mTypeError\u001b[0m: 'NoneType' object is not subscriptable"
     ]
    }
   ],
   "source": [
    "#html = urlopen(author_commit)\n",
    "#soup = BeautifulSoup(html, 'html.parser')\n",
    "#author_commit_link = soup.find('a', class_=\"message js-navigation-open\")['href']\n",
    "#author_commit_link = 'https://github.com' + author_commit_link +'.patch'"
   ]
  },
  {
   "cell_type": "code",
   "execution_count": 71,
   "metadata": {},
   "outputs": [
    {
     "data": {
      "text/plain": [
       "'https://github.com/wepe/MachineLearning/commit/ca0222acdf7c652cc49331254533e01bf35e887e.patch'"
      ]
     },
     "execution_count": 71,
     "metadata": {},
     "output_type": "execute_result"
    }
   ],
   "source": [
    "#author_commit_link"
   ]
  },
  {
   "cell_type": "code",
   "execution_count": 117,
   "metadata": {},
   "outputs": [
    {
     "data": {
      "text/plain": [
       "'Samir'"
      ]
     },
     "execution_count": 117,
     "metadata": {},
     "output_type": "execute_result"
    }
   ],
   "source": [
    "\n",
    "html = urlopen(author_commit)\n",
    "soup = BeautifulSoup(html, 'html.parser')\n",
    "\n",
    "email = soup.prettify().split()[9]\n",
    "\n",
    "# Clean email address\n",
    "email = re.sub('[</>]','', email )\n",
    "email\n"
   ]
  },
  {
   "cell_type": "code",
   "execution_count": null,
   "metadata": {},
   "outputs": [],
   "source": []
  }
 ],
 "metadata": {
  "kernelspec": {
   "display_name": "Python 3",
   "language": "python",
   "name": "python3"
  },
  "language_info": {
   "codemirror_mode": {
    "name": "ipython",
    "version": 3
   },
   "file_extension": ".py",
   "mimetype": "text/x-python",
   "name": "python",
   "nbconvert_exporter": "python",
   "pygments_lexer": "ipython3",
   "version": "3.8.3"
  }
 },
 "nbformat": 4,
 "nbformat_minor": 4
}
